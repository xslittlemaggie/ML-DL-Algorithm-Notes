{
  "nbformat": 4,
  "nbformat_minor": 0,
  "metadata": {
    "colab": {
      "name": "Decision Tree from scratch to complete & Limitations.ipynb",
      "provenance": [],
      "toc_visible": true,
      "include_colab_link": true
    },
    "kernelspec": {
      "name": "python3",
      "display_name": "Python 3"
    },
    "accelerator": "GPU"
  },
  "cells": [
    {
      "cell_type": "markdown",
      "metadata": {
        "id": "view-in-github",
        "colab_type": "text"
      },
      "source": [
        "<a href=\"https://colab.research.google.com/github/xslittlemaggie/ML-DL-Algorithm-Notes/blob/master/K-Means%20from%20scratch.ipynb\" target=\"_parent\"><img src=\"https://colab.research.google.com/assets/colab-badge.svg\" alt=\"Open In Colab\"/></a>"
      ]
    },
    {
      "cell_type": "markdown",
      "metadata": {
        "id": "N8Mw5oMHk3xd",
        "colab_type": "text"
      },
      "source": [
        "<h1><center> K-Means - Unsupervised Learning  </center></h1>"
      ]
    },
    {
      "cell_type": "markdown",
      "metadata": {
        "id": "_edG8MhvKUym",
        "colab_type": "text"
      },
      "source": [
        "Often, the data we encounter in real world won't have flags attached and won't provide labeled answers to the questions. Finding patterns in this type of data, unlabeled data, is a common theme in many machine learning applications. Unsupervised learning is how we find patterns and structure in these data.\n",
        "\n",
        "**Clustering** is the most well-known unsupervised learning technique. It finds streucture in unlabeled data by identifying similar groups, or clusters. Examples of clustering applications are:\n",
        "\n",
        "- **Recommendations engines:** group products to personalize the user experience\n",
        "\n",
        "- **Search engines:** group news topics and search results\n",
        "\n",
        "- **Market segmentation:** group customers based on geography, demography, and behaviors\n",
        "\n",
        "- **Image segmentation:** medical imaging or road scene segmentation on self-driving cars"
      ]
    },
    {
      "cell_type": "markdown",
      "metadata": {
        "id": "wK8dm2NZLS68",
        "colab_type": "text"
      },
      "source": [
        "The goal of clustering is to separate data so that data similar to one another are in the same group, while data different from one another are in different groups. So two questions arise:\n",
        "\n",
        "- How many groups do we choose?\n",
        "\n",
        "- How do we define similarity?\n",
        "\n",
        "**K-Means** is the most popular and well-known clustering algorithm, and it tries to address these two questions.\n",
        "\n",
        "- The K refers to the number of clusters(groups) we expect to find in a dataset.\n",
        "\n",
        "- The Means refers to the average distance of data to each cluster center, also known as the centroid, which we are trying to minimize.\n",
        "\n",
        "It is an iterative approach:\n",
        "\n",
        "1. Place K random centroids for the initial clusters.\n",
        "\n",
        "2. Assign data samples to the nearest centroid.\n",
        "\n",
        "3. Udate centroids based on the above=assigned data samples.\n",
        "\n",
        "Repeat Steps 2 and 3 until convergence (when points don't move between clusters and centroids stabilize).\n",
        "\n",
        "Once we are happy with our clusters, we can take a new unlabeled datapoint and quickly assign it to the appropriate cluster."
      ]
    },
    {
      "cell_type": "markdown",
      "metadata": {
        "id": "um82UUAZblkp",
        "colab_type": "text"
      },
      "source": [
        "# Part One: Realization of KMeans from scratch to complete"
      ]
    },
    {
      "cell_type": "markdown",
      "metadata": {
        "id": "V51tojpsOTV8",
        "colab_type": "text"
      },
      "source": [
        "## Step 0: Import library"
      ]
    },
    {
      "cell_type": "code",
      "metadata": {
        "id": "PD8HvuPmv13n",
        "colab_type": "code",
        "colab": {}
      },
      "source": [
        "from sklearn import datasets\n",
        "import numpy as np\n",
        "import pandas as pd\n",
        "from copy import deepcopy\n",
        "import matplotlib.pyplot as plt"
      ],
      "execution_count": 0,
      "outputs": []
    },
    {
      "cell_type": "markdown",
      "metadata": {
        "id": "RBiW1j5lv7G5",
        "colab_type": "text"
      },
      "source": [
        "## Step 1: Iris Dataset\n",
        "\n",
        "Take the Iris dataset as example. "
      ]
    },
    {
      "cell_type": "code",
      "metadata": {
        "id": "03V6ilEVM6ST",
        "colab_type": "code",
        "outputId": "2f2c329c-9c2a-4922-d5fc-b0427f6dffb4",
        "colab": {
          "base_uri": "https://localhost:8080/",
          "height": 198
        }
      },
      "source": [
        "iris = datasets.load_iris()\n",
        "X = iris.data\n",
        "X = pd.DataFrame(X, columns = iris.feature_names)\n",
        "X.head()"
      ],
      "execution_count": 2,
      "outputs": [
        {
          "output_type": "execute_result",
          "data": {
            "text/html": [
              "<div>\n",
              "<style scoped>\n",
              "    .dataframe tbody tr th:only-of-type {\n",
              "        vertical-align: middle;\n",
              "    }\n",
              "\n",
              "    .dataframe tbody tr th {\n",
              "        vertical-align: top;\n",
              "    }\n",
              "\n",
              "    .dataframe thead th {\n",
              "        text-align: right;\n",
              "    }\n",
              "</style>\n",
              "<table border=\"1\" class=\"dataframe\">\n",
              "  <thead>\n",
              "    <tr style=\"text-align: right;\">\n",
              "      <th></th>\n",
              "      <th>sepal length (cm)</th>\n",
              "      <th>sepal width (cm)</th>\n",
              "      <th>petal length (cm)</th>\n",
              "      <th>petal width (cm)</th>\n",
              "    </tr>\n",
              "  </thead>\n",
              "  <tbody>\n",
              "    <tr>\n",
              "      <th>0</th>\n",
              "      <td>5.1</td>\n",
              "      <td>3.5</td>\n",
              "      <td>1.4</td>\n",
              "      <td>0.2</td>\n",
              "    </tr>\n",
              "    <tr>\n",
              "      <th>1</th>\n",
              "      <td>4.9</td>\n",
              "      <td>3.0</td>\n",
              "      <td>1.4</td>\n",
              "      <td>0.2</td>\n",
              "    </tr>\n",
              "    <tr>\n",
              "      <th>2</th>\n",
              "      <td>4.7</td>\n",
              "      <td>3.2</td>\n",
              "      <td>1.3</td>\n",
              "      <td>0.2</td>\n",
              "    </tr>\n",
              "    <tr>\n",
              "      <th>3</th>\n",
              "      <td>4.6</td>\n",
              "      <td>3.1</td>\n",
              "      <td>1.5</td>\n",
              "      <td>0.2</td>\n",
              "    </tr>\n",
              "    <tr>\n",
              "      <th>4</th>\n",
              "      <td>5.0</td>\n",
              "      <td>3.6</td>\n",
              "      <td>1.4</td>\n",
              "      <td>0.2</td>\n",
              "    </tr>\n",
              "  </tbody>\n",
              "</table>\n",
              "</div>"
            ],
            "text/plain": [
              "   sepal length (cm)  sepal width (cm)  petal length (cm)  petal width (cm)\n",
              "0                5.1               3.5                1.4               0.2\n",
              "1                4.9               3.0                1.4               0.2\n",
              "2                4.7               3.2                1.3               0.2\n",
              "3                4.6               3.1                1.5               0.2\n",
              "4                5.0               3.6                1.4               0.2"
            ]
          },
          "metadata": {
            "tags": []
          },
          "execution_count": 2
        }
      ]
    },
    {
      "cell_type": "markdown",
      "metadata": {
        "id": "lx1-h7CcNDez",
        "colab_type": "text"
      },
      "source": [
        "- **Column 0:** Sepal length\n",
        "- **Column 1:** Sepal width\n",
        "- **Column 2:** Petal length\n",
        "- **Column 3:** Petal width"
      ]
    },
    {
      "cell_type": "markdown",
      "metadata": {
        "id": "XhZKKvCDwP6z",
        "colab_type": "text"
      },
      "source": [
        "## Step 2: A pilot study of Kmeans with two features"
      ]
    },
    {
      "cell_type": "code",
      "metadata": {
        "id": "tG4ElJmsOOEx",
        "colab_type": "code",
        "colab": {}
      },
      "source": [
        "samples = iris.data\n",
        "target = iris.target\n",
        "x = samples[:, 0] # all rows first column\n",
        "y = samples[:, 1] # all rows second column\n",
        "sepal_length_width = np.array(list(zip(x, y)))"
      ],
      "execution_count": 0,
      "outputs": []
    },
    {
      "cell_type": "code",
      "metadata": {
        "id": "08-9kuEKOONf",
        "colab_type": "code",
        "outputId": "9f135c0d-a268-4174-d234-509d9971c7bb",
        "colab": {
          "base_uri": "https://localhost:8080/",
          "height": 404
        }
      },
      "source": [
        "plt.figure(figsize = (10, 6))\n",
        "plt.scatter(x, y)\n",
        "plt.title(\"Scatter plot of Sepal Length (x1) vs Sepal Width (x2)\")\n",
        "plt.xlabel(\"Sepal Length (x1)\")\n",
        "plt.ylabel(\"Sepal Width (x2)\")\n",
        "plt.savefig(\"p1\")\n",
        "plt.show()"
      ],
      "execution_count": 4,
      "outputs": [
        {
          "output_type": "display_data",
          "data": {
            "image/png": "[encoded data removed]",
            "text/plain": [
              "<Figure size 720x432 with 1 Axes>"
            ]
          },
          "metadata": {
            "tags": []
          }
        }
      ]
    },
    {
      "cell_type": "markdown",
      "metadata": {
        "id": "O8Q1mkbLQBvo",
        "colab_type": "text"
      },
      "source": [
        "From the scatterplot above, based on these two features, the datapoints could be generalized into 2 groups. "
      ]
    },
    {
      "cell_type": "markdown",
      "metadata": {
        "id": "P7vkca3uQK7Y",
        "colab_type": "text"
      },
      "source": [
        "## Step 3: Implementing K-Means"
      ]
    },
    {
      "cell_type": "markdown",
      "metadata": {
        "id": "SdaL3np2QQaS",
        "colab_type": "text"
      },
      "source": [
        "### 3.1: Place k random centroids for the initial clusters"
      ]
    },
    {
      "cell_type": "code",
      "metadata": {
        "id": "rGBuD6xlv8ZY",
        "colab_type": "code",
        "colab": {}
      },
      "source": [
        "# Create a variable named k and set it to 3\n",
        "k = 3"
      ],
      "execution_count": 0,
      "outputs": []
    },
    {
      "cell_type": "markdown",
      "metadata": {
        "id": "cMAZjoIwQ43E",
        "colab_type": "text"
      },
      "source": [
        "use random.uniform() function to generate random values in two lists\n",
        "\n",
        "- a centroids_x list that will have k random values between min(x) and mx(x)\n",
        "\n",
        "- a centroids_y list that wil lhave k random values between min(y) and max(y)\n",
        "\n",
        "The random.uniform() function looks like: **np.random.uniform(low, high, size)**"
      ]
    },
    {
      "cell_type": "code",
      "metadata": {
        "id": "l00LVL6nQrwD",
        "colab_type": "code",
        "colab": {}
      },
      "source": [
        "centroids_x = np.random.uniform(min(x), max(x), k)\n",
        "centroids_y = np.random.uniform(min(y), max(y), k)"
      ],
      "execution_count": 0,
      "outputs": []
    },
    {
      "cell_type": "code",
      "metadata": {
        "id": "INR7Aki2Ri7V",
        "colab_type": "code",
        "colab": {}
      },
      "source": [
        "# create an array named centroids\n",
        "centroids = np.array(list(zip(centroids_x, centroids_y)))"
      ],
      "execution_count": 0,
      "outputs": []
    },
    {
      "cell_type": "code",
      "metadata": {
        "id": "fNPa0yl61nN3",
        "colab_type": "code",
        "outputId": "e47ad2bd-f403-43e9-8700-2d86e1ff8c04",
        "colab": {
          "base_uri": "https://localhost:8080/",
          "height": 69
        }
      },
      "source": [
        "# to make my presentation result consistent, I use the centroids randomly selected at the first time\n",
        "\n",
        "centroids = np.array([[4.58936792, 2.0333023], [6.37458669, 3.2663497], [7.53819634, 3.05149302]])\n",
        "centroids"
      ],
      "execution_count": 8,
      "outputs": [
        {
          "output_type": "execute_result",
          "data": {
            "text/plain": [
              "array([[4.58936792, 2.0333023 ],\n",
              "       [6.37458669, 3.2663497 ],\n",
              "       [7.53819634, 3.05149302]])"
            ]
          },
          "metadata": {
            "tags": []
          },
          "execution_count": 8
        }
      ]
    },
    {
      "cell_type": "code",
      "metadata": {
        "id": "SVlgjTULSLNI",
        "colab_type": "code",
        "outputId": "84c0ec8b-2782-4ce2-9e95-8e98cf6e10b0",
        "colab": {
          "base_uri": "https://localhost:8080/",
          "height": 404
        }
      },
      "source": [
        "centroids_x_0 = [4.58936792, 6.37458669,  7.53819634]\n",
        "centroids_y_0 = [2.0333023, 3.2663497, 3.05149302]\n",
        "\n",
        "# datapoints visualization with the initial points\n",
        "plt.figure(figsize = (10, 6))\n",
        "plt.scatter(x, y)\n",
        "plt.scatter(centroids_x_0, centroids_y_0, marker='D', s=150)\n",
        "plt.title(\"Scatter plot of Sepal Length (x1) vs Sepal Width (x2)\")\n",
        "plt.xlabel(\"Sepal Length (x1)\")\n",
        "plt.ylabel(\"Sepal Width (x2)\")\n",
        "plt.savefig(\"p2\")\n",
        "plt.show()"
      ],
      "execution_count": 9,
      "outputs": [
        {
          "output_type": "display_data",
          "data": {
            "image/png": "[encoded data removed]",
            "text/plain": [
              "<Figure size 720x432 with 1 Axes>"
            ]
          },
          "metadata": {
            "tags": []
          }
        }
      ]
    },
    {
      "cell_type": "markdown",
      "metadata": {
        "id": "WD_ENox4SXxK",
        "colab_type": "text"
      },
      "source": [
        "### 3.2 Assign data samples to the nearest centroid"
      ]
    },
    {
      "cell_type": "markdown",
      "metadata": {
        "id": "NCkEVKtmS2d9",
        "colab_type": "text"
      },
      "source": [
        "write a distance() function to iterate through each datapoint and compute the distance from each data point to each of the 3 centroids\n",
        "\n",
        "For example, if we have a point and a list of the three distances in distances and it looks like [15, 20, 5], then we would want to assign the data point to the 3rd centroid. The argmin(distances) would return the index of the lowest corresponding distance, 2."
      ]
    },
    {
      "cell_type": "code",
      "metadata": {
        "id": "0bBmRRqJSOHe",
        "colab_type": "code",
        "colab": {}
      },
      "source": [
        "def distance(a, b):\n",
        "  distance = 0\n",
        "  for i in range(len(a)):\n",
        "    distance += (a[i]-b[i]) ** 2 \n",
        "    \n",
        "  return distance ** 0.5\n",
        "\n",
        "# create an array called labels that will hold the cluster labels for each data point. its size should be the lenght of the data \n",
        "labels = np.zeros(len(samples))\n",
        "\n",
        "# create an array called distances that will hold the distances for each centroid. It shoul dhave the size of K\n",
        "distances = np.zeros(k)"
      ],
      "execution_count": 0,
      "outputs": []
    },
    {
      "cell_type": "markdown",
      "metadata": {
        "id": "7Cn5SqZyUJSU",
        "colab_type": "text"
      },
      "source": [
        "To assign each data point to the closet centroid, we need to iterate through the whole data sample and calculate each data point's distance to each centroid. \n",
        "\n",
        "We can get the index of the smallest distance of distance."
      ]
    },
    {
      "cell_type": "markdown",
      "metadata": {
        "id": "bs60Fmc52TV4",
        "colab_type": "text"
      },
      "source": [
        "# 1st iteration"
      ]
    },
    {
      "cell_type": "code",
      "metadata": {
        "id": "sh_Vo1NrzeBa",
        "colab_type": "code",
        "outputId": "0f89ae3c-9142-4300-c294-3d7abbc4bb91",
        "colab": {
          "base_uri": "https://localhost:8080/",
          "height": 404
        }
      },
      "source": [
        "centroids_0 = [[4.58936792, 2.0333023], [6.37458669, 3.2663497], [7.53819634, 3.05149302]]\n",
        "\n",
        "for i in range(len(sepal_length_width)):\n",
        "  distances[0] = distance(sepal_length_width[i], centroids_0[0])\n",
        "  distances[1] = distance(sepal_length_width[i], centroids_0[1])\n",
        "  distances[2] = distance(sepal_length_width[i], centroids_0[2])\n",
        "  cluster = np.argmin(distances)\n",
        "  labels[i] = cluster\n",
        "\n",
        "centroids_x_0 = [4.58936792,6.37458669, 7.53819634]\n",
        "centroids_y_0 = [2.0333023, 3.2663497, 3.05149302]\n",
        "\n",
        "centroids_x_1 = [x[(labels == 0)].mean(), x[(labels == 1)].mean(), x[(labels == 2)].mean()]\n",
        "centroids_y_1 = [y[(labels == 0)].mean(), y[(labels == 1)].mean(), y[(labels == 2)].mean()]\n",
        "\n",
        "plt.figure(figsize = (10, 6))\n",
        "plt.scatter(x, y, c = labels)\n",
        "plt.scatter(centroids_x_0, centroids_y_0, marker='D', c = \"orange\", s=150)\n",
        "plt.scatter(centroids_x_1, centroids_y_1, marker='v', c = \"red\", s=150)\n",
        "\n",
        "plt.title(\"Scatter plot of Sepal Length (x1) vs Sepal Width (x2)\")\n",
        "plt.xlabel(\"Sepal Length (x1)\")\n",
        "plt.ylabel(\"Sepal Width (x2)\")\n",
        "plt.savefig(\"p2\")\n",
        "plt.show()"
      ],
      "execution_count": 168,
      "outputs": [
        {
          "output_type": "display_data",
          "data": {
            "image/png": "[encoded data removed]",
            "text/plain": [
              "<Figure size 720x432 with 1 Axes>"
            ]
          },
          "metadata": {
            "tags": []
          }
        }
      ]
    },
    {
      "cell_type": "markdown",
      "metadata": {
        "id": "p3Y_f3VB2XYm",
        "colab_type": "text"
      },
      "source": [
        "# 2nd iteration"
      ]
    },
    {
      "cell_type": "code",
      "metadata": {
        "id": "d0qF8AxMU7uE",
        "colab_type": "code",
        "colab": {}
      },
      "source": [
        "centroids_0 = [[x[(labels == 0)].mean(), y[(labels == 0)].mean()], \n",
        "               [x[(labels == 1)].mean(), y[(labels == 1)].mean()], \n",
        "               [x[(labels == 2)].mean(), y[(labels == 2)].mean()]]\n",
        "\n",
        "for i in range(len(sepal_length_width)):\n",
        "  distances[0] = distance(sepal_length_width[i], centroids_0[0])\n",
        "  distances[1] = distance(sepal_length_width[i], centroids_0[1])\n",
        "  distances[2] = distance(sepal_length_width[i], centroids_0[2])\n",
        "  cluster = np.argmin(distances)\n",
        "  labels[i] = cluster\n",
        "\n",
        "centroids_x_0 = [centroids_0[0] for i in range(len(centroids_0))]\n",
        "centroids_y_0 = [centroids_0[1] for i in range(len(centroids_0))]\n",
        "\n",
        "centroids_x_1 = [x[(labels == 0)].mean(), x[(labels == 1)].mean(), x[(labels == 2)].mean()]\n",
        "centroids_y_1 = [y[(labels == 0)].mean(), y[(labels == 1)].mean(), y[(labels == 2)].mean()]\n",
        "\n",
        "plt.figure(figsize = (10, 6))\n",
        "plt.scatter(x, y, c = labels)\n",
        "plt.scatter(centroids_x_0, centroids_y_0, marker='D', c = \"orange\", s=150)\n",
        "plt.scatter(centroids_x_1, centroids_y_1, marker='v', c = \"red\", s=150)\n",
        "\n",
        "plt.title(\"Scatter plot of Sepal Length (x1) vs Sepal Width (x2)\")\n",
        "plt.xlabel(\"Sepal Length (x1)\")\n",
        "plt.ylabel(\"Sepal Width (x2)\")\n",
        "plt.savefig(\"p2\")\n",
        "plt.show()"
      ],
      "execution_count": 0,
      "outputs": []
    },
    {
      "cell_type": "markdown",
      "metadata": {
        "id": "59CZk38V1mpF",
        "colab_type": "text"
      },
      "source": [
        "## 3rd iteration"
      ]
    },
    {
      "cell_type": "code",
      "metadata": {
        "id": "b8nd3Dwm1plf",
        "colab_type": "code",
        "colab": {
          "base_uri": "https://localhost:8080/",
          "height": 404
        },
        "outputId": "d181b2e8-9f11-49c8-9f2a-d1e2cee11000"
      },
      "source": [
        "# update the centroids\n",
        "centroids = [[x[(labels == 0)].mean(), y[(labels == 0)].mean()], \n",
        "             [x[(labels == 1)].mean(), y[(labels == 1)].mean()], \n",
        "             [x[(labels == 2)].mean(), y[(labels == 2)].mean()]]\n",
        "\n",
        "for i in range(len(sepal_length_width)):\n",
        "  distances[0] = distance(sepal_length_width[i], centroids[0])\n",
        "  distances[1] = distance(sepal_length_width[i], centroids[1])\n",
        "  distances[2] = distance(sepal_length_width[i], centroids[2])\n",
        "  cluster = np.argmin(distances)\n",
        "  labels[i] = cluster\n",
        "\n",
        "# visualize the centroids\n",
        "plt.figure(figsize = (10, 6))\n",
        "plt.scatter(x, y, c = labels)\n",
        "#plt.scatter(centroids_x, centroids_y, marker='D', c = \"orange\", s=150, alpha = 0.6)\n",
        "plt.scatter(centroids_x_1, centroids_y_1, marker='v', c = \"red\", s=150)\n",
        "\n",
        "plt.title(\"Scatter plot of Sepal Length (x1) vs Sepal Width (x2)\")\n",
        "plt.xlabel(\"Sepal Length (x1)\")\n",
        "plt.ylabel(\"Sepal Width (x2)\")\n",
        "plt.savefig(\"p3\")\n",
        "plt.show()\n",
        "\n",
        "# update the centroids for next time\n",
        "centroids_x_2 = [x[(labels == 0)].mean(), x[(labels == 1)].mean(), x[(labels == 2)].mean()]\n",
        "centroids_y_2 = [y[(labels == 0)].mean(), y[(labels == 1)].mean(), y[(labels == 2)].mean()]\n"
      ],
      "execution_count": 150,
      "outputs": [
        {
          "output_type": "display_data",
          "data": {
            "image/png": "[encoded data removed]",
            "text/plain": [
              "<Figure size 720x432 with 1 Axes>"
            ]
          },
          "metadata": {
            "tags": []
          }
        }
      ]
    },
    {
      "cell_type": "code",
      "metadata": {
        "id": "OXzbhf683xxD",
        "colab_type": "code",
        "colab": {
          "base_uri": "https://localhost:8080/",
          "height": 404
        },
        "outputId": "7e068c98-42b7-4e82-b0a4-bf84c79996ee"
      },
      "source": [
        "# update the centroids\n",
        "centroids = [[x[(labels == 0)].mean(), y[(labels == 0)].mean()], \n",
        "             [x[(labels == 1)].mean(), y[(labels == 1)].mean()], \n",
        "             [x[(labels == 2)].mean(), y[(labels == 2)].mean()]]\n",
        "\n",
        "for i in range(len(sepal_length_width)):\n",
        "  distances[0] = distance(sepal_length_width[i], centroids[0])\n",
        "  distances[1] = distance(sepal_length_width[i], centroids[1])\n",
        "  distances[2] = distance(sepal_length_width[i], centroids[2])\n",
        "  cluster = np.argmin(distances)\n",
        "  labels[i] = cluster\n",
        "\n",
        "# visualize the centroids\n",
        "plt.figure(figsize = (10, 6))\n",
        "plt.scatter(x, y, c = labels)\n",
        "plt.scatter(centroids_x_1, centroids_y_1, marker='v', c = \"red\", s=150)\n",
        "plt.scatter(centroids_x_2, centroids_y_2, marker='D', c = \"orange\", s=150, alpha = 0.6)\n",
        "\n",
        "plt.title(\"Scatter plot of Sepal Length (x1) vs Sepal Width (x2)\")\n",
        "plt.xlabel(\"Sepal Length (x1)\")\n",
        "plt.ylabel(\"Sepal Width (x2)\")\n",
        "plt.savefig(\"p3\")\n",
        "plt.show()\n",
        "\n",
        "# update the centroids for next time\n",
        "centroids_x_2 = [x[(labels == 0)].mean(), x[(labels == 1)].mean(), x[(labels == 2)].mean()]\n",
        "centroids_y_2 = [y[(labels == 0)].mean(), y[(labels == 1)].mean(), y[(labels == 2)].mean()]\n"
      ],
      "execution_count": 151,
      "outputs": [
        {
          "output_type": "display_data",
          "data": {
            "image/png": "[encoded data removed]",
            "text/plain": [
              "<Figure size 720x432 with 1 Axes>"
            ]
          },
          "metadata": {
            "tags": []
          }
        }
      ]
    },
    {
      "cell_type": "markdown",
      "metadata": {
        "id": "sH3ZI1uKVNWz",
        "colab_type": "text"
      },
      "source": [
        "### 3.3 Update centroids based on the above-assigned data samples"
      ]
    },
    {
      "cell_type": "markdown",
      "metadata": {
        "id": "tgjpYFTrVSbu",
        "colab_type": "text"
      },
      "source": [
        "Save the centroids value before updating"
      ]
    },
    {
      "cell_type": "code",
      "metadata": {
        "id": "17qPioqkVAup",
        "colab_type": "code",
        "colab": {}
      },
      "source": [
        "centroids_old =  deepcopy(centroids)"
      ],
      "execution_count": 0,
      "outputs": []
    },
    {
      "cell_type": "code",
      "metadata": {
        "id": "OZOmLeHlVbNI",
        "colab_type": "code",
        "outputId": "65ba5e7d-47dc-4f4e-ac8f-48d2003b89ea",
        "colab": {
          "base_uri": "https://localhost:8080/",
          "height": 104
        }
      },
      "source": [
        "# update centroids\n",
        "for i in range(k):\n",
        "  points = [sepal_length_width[j] for j in range(len(sepal_length_width)) if labels[j] == i]\n",
        "  centroids[i] = np.mean(points, axis = 0)\n",
        "\n",
        "print(\"Old centroids:\")\n",
        "print(centroids_old)\n",
        "print(\"--------------------------\")\n",
        "print(\"Updated centroids:\")\n",
        "print(centroids)"
      ],
      "execution_count": 153,
      "outputs": [
        {
          "output_type": "stream",
          "text": [
            "Old centroids:\n",
            "[[4.974074074074075, 3.27037037037037], [6.006060606060605, 2.871212121212121], [7.05, 3.0833333333333326]]\n",
            "--------------------------\n",
            "Updated centroids:\n",
            "[array([5.01403509, 3.3122807 ]), array([6.01129032, 2.80806452]), array([7.03225806, 3.08709677])]\n"
          ],
          "name": "stdout"
        }
      ]
    },
    {
      "cell_type": "code",
      "metadata": {
        "id": "Q6VXGuBuawJd",
        "colab_type": "code",
        "colab": {}
      },
      "source": [
        ""
      ],
      "execution_count": 0,
      "outputs": []
    },
    {
      "cell_type": "markdown",
      "metadata": {
        "id": "UAvb64AYXj3d",
        "colab_type": "text"
      },
      "source": [
        "### 3.4 Repeate 2 and 3 until converge (the centroids stabilize)"
      ]
    },
    {
      "cell_type": "markdown",
      "metadata": {
        "id": "ezaiWks2X4n-",
        "colab_type": "text"
      },
      "source": [
        "We can do this using a while loop. And everything from 2 and 3 goes inside the loop.\n",
        "\n",
        "For the condition of the while loop, we need to create an array named erros. In each error index, we calculate the difference between the updated centroid(centroids) and the old centroid(centroid_old)\n",
        "\n",
        "The loodp ends when all three values in erros are 0"
      ]
    },
    {
      "cell_type": "code",
      "metadata": {
        "id": "e36xt_kyWJ6U",
        "colab_type": "code",
        "outputId": "6c2a0d43-3bbd-4839-82d9-78044f86feeb",
        "colab": {
          "base_uri": "https://localhost:8080/",
          "height": 0
        }
      },
      "source": [
        "error = np.zeros(3)\n",
        "\n",
        "error[0] = distance(centroids[0], centroids_old[0])\n",
        "error[1] = distance(centroids[1], centroids_old[1])\n",
        "error[2] = distance(centroids[2], centroids_old[2])\n",
        "\n",
        "# Repeat Steps 2 and 3 until convergence:\n",
        "\n",
        "while error.all() != 0:\n",
        "\n",
        "  # Step 2: Assign samples to nearest centroid\n",
        "\n",
        "  for i in range(len(samples)):\n",
        "    distances[0] = distance(sepal_length_width[i], centroids[0])\n",
        "    distances[1] = distance(sepal_length_width[i], centroids[1])\n",
        "    distances[2] = distance(sepal_length_width[i], centroids[2])\n",
        "    cluster = np.argmin(distances)\n",
        "    labels[i] = cluster\n",
        "\n",
        "  # Step 3: Update centroids\n",
        "\n",
        "  centroids_old = deepcopy(centroids)\n",
        "\n",
        "  for i in range(3):\n",
        "    points = [sepal_length_width[j] for j in range(len(sepal_length_width)) if labels[j] == i]\n",
        "    centroids[i] = np.mean(points, axis=0)\n",
        "\n",
        "  error[0] = distance(centroids[0], centroids_old[0])\n",
        "  error[1] = distance(centroids[1],   centroids_old[1])\n",
        "  error[2] = distance(centroids[2], centroids_old[2])\n",
        "centroids = np.array(centroids)\n",
        "colors = ['r', 'g', 'b']\n",
        "\n",
        "for i in range(k):\n",
        "  points = np.array([sepal_length_width[j] for j in range(len(samples)) if labels[j] == i])\n",
        "  plt.scatter(points[:, 0], points[:, 1], c=colors[i], alpha=0.5)\n",
        "\n",
        "plt.scatter(centroids[:, 0], centroids[:, 1], marker='D', s=150)\n",
        "\n",
        "plt.xlabel('sepal length (cm)')\n",
        "plt.ylabel('sepal width (cm)')\n",
        "\n",
        "plt.show()\n"
      ],
      "execution_count": 154,
      "outputs": [
        {
          "output_type": "display_data",
          "data": {
            "image/png": "[encoded data removed]",
            "text/plain": [
              "<Figure size 432x288 with 1 Axes>"
            ]
          },
          "metadata": {
            "tags": []
          }
        }
      ]
    },
    {
      "cell_type": "code",
      "metadata": {
        "id": "h8jiYp-6YZil",
        "colab_type": "code",
        "outputId": "dbd20e96-c625-4b89-a8f0-e582993d578b",
        "colab": {
          "base_uri": "https://localhost:8080/",
          "height": 0
        }
      },
      "source": [
        "print(error)"
      ],
      "execution_count": 155,
      "outputs": [
        {
          "output_type": "stream",
          "text": [
            "[0.02343492 0.02054729 0.        ]\n"
          ],
          "name": "stdout"
        }
      ]
    },
    {
      "cell_type": "code",
      "metadata": {
        "id": "LLe3KoLHbzn2",
        "colab_type": "code",
        "outputId": "ad8c26ae-2aed-4cc8-d0a0-b5bbca916342",
        "colab": {
          "base_uri": "https://localhost:8080/",
          "height": 0
        }
      },
      "source": [
        "# update centroids\n",
        "for i in range(k):\n",
        "  points = [sepal_length_width[j] for j in range(len(sepal_length_width)) if labels[j] == i]\n",
        "  centroids[i] = np.mean(points, axis = 0)\n",
        "\n",
        "print(\"Old centroids:\")\n",
        "print(np.array(centroids_old))\n",
        "print(\"--------------------------\")\n",
        "print(\"Updated centroids:\")\n",
        "print(centroids)"
      ],
      "execution_count": 156,
      "outputs": [
        {
          "output_type": "stream",
          "text": [
            "Old centroids:\n",
            "[[5.01403509 3.3122807 ]\n",
            " [6.01129032 2.80806452]\n",
            " [7.03225806 3.08709677]]\n",
            "--------------------------\n",
            "Updated centroids:\n",
            "[[5.01428571 3.33571429]\n",
            " [5.9952381  2.7952381 ]\n",
            " [7.03225806 3.08709677]]\n"
          ],
          "name": "stdout"
        }
      ]
    },
    {
      "cell_type": "markdown",
      "metadata": {
        "id": "8-Simh1ib__u",
        "colab_type": "text"
      },
      "source": [
        "From the results above, the error converges to all zeros, and the the old centroids and updated centroids overlap."
      ]
    },
    {
      "cell_type": "markdown",
      "metadata": {
        "id": "_EpoykfJcJSN",
        "colab_type": "text"
      },
      "source": [
        "# Part Two: Implementing K-Means with Scikit-Learn"
      ]
    },
    {
      "cell_type": "markdown",
      "metadata": {
        "id": "3ITAVFOMdDnE",
        "colab_type": "text"
      },
      "source": [
        "### 1. Create & fit the model"
      ]
    },
    {
      "cell_type": "code",
      "metadata": {
        "id": "DWUR4-udb4Rg",
        "colab_type": "code",
        "colab": {}
      },
      "source": [
        "from sklearn.cluster import KMeans"
      ],
      "execution_count": 0,
      "outputs": []
    },
    {
      "cell_type": "code",
      "metadata": {
        "id": "bgxM9JBUcYR3",
        "colab_type": "code",
        "outputId": "0716b95e-ba8c-45bc-a91a-b515cbf43eef",
        "colab": {
          "base_uri": "https://localhost:8080/",
          "height": 0
        }
      },
      "source": [
        "model = KMeans(n_clusters = 3)\n",
        "model.fit(samples) # the data without labels\n",
        "labels = model.predict(samples)\n",
        "print(labels)"
      ],
      "execution_count": 158,
      "outputs": [
        {
          "output_type": "stream",
          "text": [
            "[0 0 0 0 0 0 0 0 0 0 0 0 0 0 0 0 0 0 0 0 0 0 0 0 0 0 0 0 0 0 0 0 0 0 0 0 0\n",
            " 0 0 0 0 0 0 0 0 0 0 0 0 0 2 2 1 2 2 2 2 2 2 2 2 2 2 2 2 2 2 2 2 2 2 2 2 2\n",
            " 2 2 2 1 2 2 2 2 2 2 2 2 2 2 2 2 2 2 2 2 2 2 2 2 2 2 1 2 1 1 1 1 2 1 1 1 1\n",
            " 1 1 2 2 1 1 1 1 2 1 2 1 2 1 1 2 2 1 1 1 1 1 2 1 1 1 1 2 1 1 1 2 1 1 1 2 1\n",
            " 1 2]\n"
          ],
          "name": "stdout"
        }
      ]
    },
    {
      "cell_type": "markdown",
      "metadata": {
        "id": "zEZhcRpsdJkX",
        "colab_type": "text"
      },
      "source": [
        "### 2. Predict on new datasets"
      ]
    },
    {
      "cell_type": "code",
      "metadata": {
        "id": "f2BY964YdMlQ",
        "colab_type": "code",
        "colab": {}
      },
      "source": [
        "new_samples = np.array([[5.7, 4.4, 1.5, 0.4],\n",
        "   [6.5, 3. , 5.5, 0.4],\n",
        "   [5.8, 2.7, 5.1, 1.9]])"
      ],
      "execution_count": 0,
      "outputs": []
    },
    {
      "cell_type": "code",
      "metadata": {
        "id": "xg8o4nsPdZyo",
        "colab_type": "code",
        "outputId": "27a078ca-3aef-4902-d748-428bcce599e7",
        "colab": {
          "base_uri": "https://localhost:8080/",
          "height": 0
        }
      },
      "source": [
        "new_predictions = model.predict(new_samples)\n",
        "print(new_predictions)"
      ],
      "execution_count": 160,
      "outputs": [
        {
          "output_type": "stream",
          "text": [
            "[0 2 2]\n"
          ],
          "name": "stdout"
        }
      ]
    },
    {
      "cell_type": "markdown",
      "metadata": {
        "id": "FHWJioC8djRl",
        "colab_type": "text"
      },
      "source": [
        "### 3. Visualize After K-Means"
      ]
    },
    {
      "cell_type": "code",
      "metadata": {
        "id": "bEN27fd6dnt_",
        "colab_type": "code",
        "outputId": "fdbc358b-6ff0-490d-992a-983553520be3",
        "colab": {
          "base_uri": "https://localhost:8080/",
          "height": 0
        }
      },
      "source": [
        "plt.scatter(x, y, c=labels, alpha=0.5)\n",
        "\n",
        "plt.xlabel('sepal length (cm)')\n",
        "plt.ylabel('sepal width (cm)')"
      ],
      "execution_count": 161,
      "outputs": [
        {
          "output_type": "execute_result",
          "data": {
            "text/plain": [
              "Text(0, 0.5, 'sepal width (cm)')"
            ]
          },
          "metadata": {
            "tags": []
          },
          "execution_count": 161
        },
        {
          "output_type": "display_data",
          "data": {
            "image/png": "[encoded data removed]",
            "text/plain": [
              "<Figure size 432x288 with 1 Axes>"
            ]
          },
          "metadata": {
            "tags": []
          }
        }
      ]
    },
    {
      "cell_type": "markdown",
      "metadata": {
        "id": "--bm-nZ5eGLT",
        "colab_type": "text"
      },
      "source": [
        "### 4. Evaluation"
      ]
    },
    {
      "cell_type": "code",
      "metadata": {
        "id": "siGO9lSxeNps",
        "colab_type": "code",
        "colab": {}
      },
      "source": [
        "species = np.chararray(target.shape, itemsize=150)\n",
        "\n",
        "for i in range(len(samples)):\n",
        "  if target[i] == 0:\n",
        "    species[i] = 'setosa'\n",
        "  elif target[i] == 1:\n",
        "    species[i] = 'veriscolor'\n",
        "  elif target[i] == 2: \n",
        "    species[i] = 'virginica'"
      ],
      "execution_count": 0,
      "outputs": []
    },
    {
      "cell_type": "code",
      "metadata": {
        "id": "whlV5Iolezw_",
        "colab_type": "code",
        "colab": {}
      },
      "source": [
        "import pandas as pd\n",
        "df = pd.DataFrame({'labels': labels, 'species': species})  # labels are the results predicted from the model"
      ],
      "execution_count": 0,
      "outputs": []
    },
    {
      "cell_type": "code",
      "metadata": {
        "id": "CT-zWLTje7pr",
        "colab_type": "code",
        "outputId": "11f88968-fdf5-485d-fbee-4e4e07e59661",
        "colab": {
          "base_uri": "https://localhost:8080/",
          "height": 0
        }
      },
      "source": [
        "ct = pd.crosstab(df['labels'], df['species'])\n",
        "\n",
        "print(ct)"
      ],
      "execution_count": 164,
      "outputs": [
        {
          "output_type": "stream",
          "text": [
            "species  b'setosa'  b'veriscolor'  b'virginica'\n",
            "labels                                         \n",
            "0               50              0             0\n",
            "1                0              2            36\n",
            "2                0             48            14\n"
          ],
          "name": "stdout"
        }
      ]
    },
    {
      "cell_type": "markdown",
      "metadata": {
        "id": "Iab0dMO5f6kR",
        "colab_type": "text"
      },
      "source": [
        "### 5. More discussion about the number of Cluster"
      ]
    },
    {
      "cell_type": "markdown",
      "metadata": {
        "id": "FGbMnw6RgBUo",
        "colab_type": "text"
      },
      "source": [
        "At this point, we have grouped the Iris plants into 3 clusters because we know the Iris has three groups. \n",
        "How about if we don't have this information before?\n",
        "\n",
        "Good clustering results in tight clusters, meaning that the samples in each cluster are bunched together. How spread out the clusters are is measured by inertia. Inertia is the distance from each sample to the centroid of its cluster. The lower the inertia is, the better our model has doen. "
      ]
    },
    {
      "cell_type": "code",
      "metadata": {
        "id": "mIiHyJa3fiQP",
        "colab_type": "code",
        "outputId": "f90bba63-80eb-4684-dc0a-f7bae47f9949",
        "colab": {
          "base_uri": "https://localhost:8080/",
          "height": 0
        }
      },
      "source": [
        "print(model.inertia_)"
      ],
      "execution_count": 165,
      "outputs": [
        {
          "output_type": "stream",
          "text": [
            "78.85144142614601\n"
          ],
          "name": "stdout"
        }
      ]
    },
    {
      "cell_type": "code",
      "metadata": {
        "id": "rJR8W8CLglAO",
        "colab_type": "code",
        "colab": {}
      },
      "source": [
        "num_clusters = list(range(1, 9))\n",
        "\n",
        "inertias = []\n",
        "for i in num_clusters:\n",
        "  model = KMeans(n_clusters = i)\n",
        "  model.fit(samples)\n",
        "  inertia = model.inertia_\n",
        "  inertias.append(inertia)"
      ],
      "execution_count": 0,
      "outputs": []
    },
    {
      "cell_type": "code",
      "metadata": {
        "id": "H602hhj0g2UX",
        "colab_type": "code",
        "outputId": "186fc97f-6485-4efb-ed51-f9fb88e09ac6",
        "colab": {
          "base_uri": "https://localhost:8080/",
          "height": 0
        }
      },
      "source": [
        "plt.plot(num_clusters, inertias, '-o')\n",
        "plt.xlabel(\"Number of Clusters (K)\")\n",
        "plt.ylabel(\"Inertia\")\n",
        "plt.show()"
      ],
      "execution_count": 167,
      "outputs": [
        {
          "output_type": "display_data",
          "data": {
            "image/png": "[encoded data removed]",
            "text/plain": [
              "<Figure size 432x288 with 1 Axes>"
            ]
          },
          "metadata": {
            "tags": []
          }
        }
      ]
    },
    {
      "cell_type": "code",
      "metadata": {
        "id": "hQxvteSbho1D",
        "colab_type": "code",
        "colab": {}
      },
      "source": [
        ""
      ],
      "execution_count": 0,
      "outputs": []
    }
  ]
}