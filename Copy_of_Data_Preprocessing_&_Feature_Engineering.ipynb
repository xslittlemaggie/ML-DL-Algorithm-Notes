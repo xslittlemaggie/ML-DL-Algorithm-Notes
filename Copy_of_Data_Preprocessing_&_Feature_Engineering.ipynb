{
  "nbformat": 4,
  "nbformat_minor": 0,
  "metadata": {
    "colab": {
      "name": "Copy of Data Preprocessing & Feature Engineering.ipynb",
      "version": "0.3.2",
      "provenance": [],
      "include_colab_link": true
    },
    "kernelspec": {
      "name": "python3",
      "display_name": "Python 3"
    }
  },
  "cells": [
    {
      "cell_type": "markdown",
      "metadata": {
        "id": "view-in-github",
        "colab_type": "text"
      },
      "source": [
        "<a href=\"https://colab.research.google.com/github/xslittlemaggie/Other-ML-DL-Algorithm-notes/blob/master/Copy_of_Data_Preprocessing_%26_Feature_Engineering.ipynb\" target=\"_parent\"><img src=\"https://colab.research.google.com/assets/colab-badge.svg\" alt=\"Open In Colab\"/></a>"
      ]
    },
    {
      "cell_type": "markdown",
      "metadata": {
        "id": "w5dFwELATEfb",
        "colab_type": "text"
      },
      "source": [
        "<h1><center> Five steps of data mining<center><h1>"
      ]
    },
    {
      "cell_type": "markdown",
      "metadata": {
        "id": "PGvqRXrTS8bR",
        "colab_type": "text"
      },
      "source": [
        "# Part One: Loading data\n",
        "\n",
        "From kaggles, local, sklearn built-in datasets, etc."
      ]
    },
    {
      "cell_type": "markdown",
      "metadata": {
        "id": "6vXYq6urTWAW",
        "colab_type": "text"
      },
      "source": [
        "# Part Two & Three: Data Preprocessing & Feature Engineering\n",
        "\n",
        "The purpose of data processing is to clean the data for model building.\n",
        "\n",
        "package **preprocessing**: include almost all data preprocessing methods\n",
        "\n",
        "package ** feature_selection**: include a lot of feature selection methods\n",
        "\n",
        "package **decomposition**: e.g. PCA"
      ]
    },
    {
      "cell_type": "code",
      "metadata": {
        "id": "nW-Pe0_wV-zE",
        "colab_type": "code",
        "colab": {}
      },
      "source": [
        "from sklearn.preprocessing import MinMaxScaler\n",
        "from sklearn.preprocessing import StandardScaler\n",
        "\n",
        "import pandas as pd"
      ],
      "execution_count": 0,
      "outputs": []
    },
    {
      "cell_type": "markdown",
      "metadata": {
        "id": "cjXnvkqmVBQV",
        "colab_type": "text"
      },
      "source": [
        "# 1. 无量纲化\n",
        "\n",
        "大部分情况下使用标准化\n",
        "\n",
        "The purpoes is to increase model accuracy"
      ]
    },
    {
      "cell_type": "markdown",
      "metadata": {
        "id": "RFr9q39DVXDl",
        "colab_type": "text"
      },
      "source": [
        "### 1.1 Normalization (归一化)\n",
        "\n",
        "取最大值和最小值， 对异常值非常敏感"
      ]
    },
    {
      "cell_type": "code",
      "metadata": {
        "id": "lulCoZJsVp8W",
        "colab_type": "code",
        "colab": {}
      },
      "source": [
        "data = [[-1, 2], [-0.5, 6], [0, 10], [1, 18]]\n",
        "pd.DataFrame(data)"
      ],
      "execution_count": 0,
      "outputs": []
    },
    {
      "cell_type": "code",
      "metadata": {
        "id": "ChVwNVbxWF2N",
        "colab_type": "code",
        "colab": {}
      },
      "source": [
        "scaler = MinMaxScaler()\n",
        "result = scaler.fit_transform(data)\n",
        "result"
      ],
      "execution_count": 0,
      "outputs": []
    },
    {
      "cell_type": "code",
      "metadata": {
        "id": "bdHY6ZBOWlms",
        "colab_type": "code",
        "colab": {}
      },
      "source": [
        "scaler.inverse_transform(result)"
      ],
      "execution_count": 0,
      "outputs": []
    },
    {
      "cell_type": "code",
      "metadata": {
        "id": "4DU8WPnmWu2_",
        "colab_type": "code",
        "colab": {}
      },
      "source": [
        "# fit the data into a particular range\n",
        "\n",
        "scaler = MinMaxScaler(feature_range = [5, 10])\n",
        "result = scaler.fit_transform(data)\n",
        "result"
      ],
      "execution_count": 0,
      "outputs": []
    },
    {
      "cell_type": "markdown",
      "metadata": {
        "id": "-iirkAAgV4LP",
        "colab_type": "text"
      },
      "source": [
        "### 1.2. Standardization(标准化)\n",
        "\n",
        "Z-score"
      ]
    },
    {
      "cell_type": "code",
      "metadata": {
        "id": "CtJqEGgSXNFi",
        "colab_type": "code",
        "colab": {}
      },
      "source": [
        "scaler = StandardScaler()\n",
        "result = scaler.fit_transform(data)\n",
        "result"
      ],
      "execution_count": 0,
      "outputs": []
    },
    {
      "cell_type": "code",
      "metadata": {
        "id": "Lfn4oo-7XfHf",
        "colab_type": "code",
        "colab": {}
      },
      "source": [
        "print(\"Mean: {}\".format(scaler.mean_))\n",
        "print(\"Variance: {}\".format(scaler.var_))"
      ],
      "execution_count": 0,
      "outputs": []
    },
    {
      "cell_type": "code",
      "metadata": {
        "id": "xVnaMtOSXoJv",
        "colab_type": "code",
        "colab": {}
      },
      "source": [
        "print(\"Mean: {}\".format(result.mean()))\n",
        "print(\"Variance: {}\".format(result.std()))"
      ],
      "execution_count": 0,
      "outputs": []
    },
    {
      "cell_type": "code",
      "metadata": {
        "id": "4MqNcuPaXu4f",
        "colab_type": "code",
        "colab": {}
      },
      "source": [
        "scaler.inverse_transform(result)"
      ],
      "execution_count": 0,
      "outputs": []
    },
    {
      "cell_type": "markdown",
      "metadata": {
        "id": "6xLaRQugYnEA",
        "colab_type": "text"
      },
      "source": [
        "# 2. Missing values"
      ]
    },
    {
      "cell_type": "markdown",
      "metadata": {
        "id": "82QA1qKuZsum",
        "colab_type": "text"
      },
      "source": [
        "load the titanic dataset from kaggle for practice"
      ]
    },
    {
      "cell_type": "code",
      "metadata": {
        "id": "zUAbhfVlYrFi",
        "colab_type": "code",
        "colab": {}
      },
      "source": [
        "import os\n",
        "\n",
        "os.environ['KAGGLE_USERNAME'] = \"liulihuang\" # username from the json file \n",
        "os.environ['KAGGLE_KEY'] = \"7adfc6c4e6c5eec087031fbb7397aee5\" # key from the json file (This key is incorrect) "
      ],
      "execution_count": 0,
      "outputs": []
    },
    {
      "cell_type": "code",
      "metadata": {
        "id": "szimC2SAY9IZ",
        "colab_type": "code",
        "colab": {}
      },
      "source": [
        "!pip install -q kaggle\n",
        "#!kaggle datasets list -s titanic  # It will list the 20 datasets including \"titanic\" from kaggle\n",
        "!kaggle datasets download -d kittisaks/testtitanic -p /content/\n",
        "!unzip -q /content/titanic.zip -d /content/titanic/\n",
        "!unzip -q /content/testtitanic.zip -d /content/titanic/"
      ],
      "execution_count": 0,
      "outputs": []
    },
    {
      "cell_type": "code",
      "metadata": {
        "id": "wBHpfo7FZXWD",
        "colab_type": "code",
        "colab": {}
      },
      "source": [
        "data = pd.read_csv(\"/content/titanic/titanic_data.csv\")\n",
        "data.head()"
      ],
      "execution_count": 0,
      "outputs": []
    },
    {
      "cell_type": "code",
      "metadata": {
        "id": "ADx5ioW2Z1Kt",
        "colab_type": "code",
        "colab": {}
      },
      "source": [
        "columns = [\"Age\", \"Sex\", \"Embarked\", \"Survived\"]\n",
        "data = data[columns]\n",
        "data.head()"
      ],
      "execution_count": 0,
      "outputs": []
    },
    {
      "cell_type": "code",
      "metadata": {
        "id": "9D-nlcl0bgO2",
        "colab_type": "code",
        "colab": {}
      },
      "source": [
        "data.shape"
      ],
      "execution_count": 0,
      "outputs": []
    },
    {
      "cell_type": "markdown",
      "metadata": {
        "id": "deNr4iVqb7lt",
        "colab_type": "text"
      },
      "source": [
        "### Method 1: impute.SimpleImputer\n",
        "np.nan = missing values\n",
        "class sklearn.impute.SimpleImputer(missing_values = nan, strategy = \"mean\", fill_value = None, copy = True)\n",
        "\n",
        "\n",
        "- missing_values: nan, or other values I want to replace\n",
        "- strategy: \"mean\", \"median\", \"most_frequent\", \"constant\"\n",
        "- fill_value: when the strategy = \"constant\"\n",
        "- copy: default = True"
      ]
    },
    {
      "cell_type": "code",
      "metadata": {
        "id": "J7IsvjZ-b5Sv",
        "colab_type": "code",
        "colab": {}
      },
      "source": [
        "data.info()"
      ],
      "execution_count": 0,
      "outputs": []
    },
    {
      "cell_type": "markdown",
      "metadata": {
        "id": "v9iq4YyBeUeX",
        "colab_type": "text"
      },
      "source": [
        "The feature \"Age\", \"Survived\" have missing values"
      ]
    },
    {
      "cell_type": "markdown",
      "metadata": {
        "id": "k82Ppo5reeuu",
        "colab_type": "text"
      },
      "source": [
        "#### 1. Replacing missing values from Age with median"
      ]
    },
    {
      "cell_type": "code",
      "metadata": {
        "id": "DwlpS9SXc79D",
        "colab_type": "code",
        "colab": {}
      },
      "source": [
        "Age = data.loc[:, \"Age\"].values.reshape(-1, 1)  # reshape to transform 1 dim to 2 dim\n",
        "Age[:5]"
      ],
      "execution_count": 0,
      "outputs": []
    },
    {
      "cell_type": "code",
      "metadata": {
        "id": "-fPkwiRDdNGh",
        "colab_type": "code",
        "colab": {}
      },
      "source": [
        "from sklearn.impute import SimpleImputer\n",
        "imp_mean = SimpleImputer()  # mean by default\n",
        "imp_median = SimpleImputer(strategy = \"median\")\n",
        "imp_0 = SimpleImputer(strategy = \"constant\", fill_value = 0)\n"
      ],
      "execution_count": 0,
      "outputs": []
    },
    {
      "cell_type": "code",
      "metadata": {
        "id": "er2Fcfcydh1m",
        "colab_type": "code",
        "colab": {}
      },
      "source": [
        "imp_mean = imp_mean.fit_transform(Age)\n",
        "imp_median = imp_median.fit_transform(Age)\n",
        "imp_0 = imp_0.fit_transform(Age)"
      ],
      "execution_count": 0,
      "outputs": []
    },
    {
      "cell_type": "code",
      "metadata": {
        "id": "nvSq5rKNdvaR",
        "colab_type": "code",
        "colab": {}
      },
      "source": [
        "imp_mean[:5]"
      ],
      "execution_count": 0,
      "outputs": []
    },
    {
      "cell_type": "code",
      "metadata": {
        "id": "tP672slEdyzc",
        "colab_type": "code",
        "colab": {}
      },
      "source": [
        "imp_median[:5]"
      ],
      "execution_count": 0,
      "outputs": []
    },
    {
      "cell_type": "code",
      "metadata": {
        "id": "OCCoUVLYd0zR",
        "colab_type": "code",
        "colab": {}
      },
      "source": [
        "imp_0[:5]"
      ],
      "execution_count": 0,
      "outputs": []
    },
    {
      "cell_type": "code",
      "metadata": {
        "id": "ixX4rGEueFV0",
        "colab_type": "code",
        "colab": {}
      },
      "source": [
        "# replace the data with medain\n",
        "data.loc[:, \"Age\"] = imp_median"
      ],
      "execution_count": 0,
      "outputs": []
    },
    {
      "cell_type": "code",
      "metadata": {
        "id": "iBxD2jyAeNOd",
        "colab_type": "code",
        "colab": {}
      },
      "source": [
        "data.info()"
      ],
      "execution_count": 0,
      "outputs": []
    },
    {
      "cell_type": "markdown",
      "metadata": {
        "id": "fOBL04FYecCH",
        "colab_type": "text"
      },
      "source": [
        "#### 2. Repalcing variable Embarked with mode"
      ]
    },
    {
      "cell_type": "code",
      "metadata": {
        "id": "i4h4ALNcea4D",
        "colab_type": "code",
        "colab": {}
      },
      "source": [
        "Embarked = data.loc[:, \"Embarked\"].values.reshape(-1, 1)\n",
        "imp_mode = SimpleImputer(strategy = \"most_frequent\")\n",
        "data.loc[:, \"Embarked\"] = imp_mode.fit_transform(Embarked)\n",
        "data.info()"
      ],
      "execution_count": 0,
      "outputs": []
    },
    {
      "cell_type": "markdown",
      "metadata": {
        "id": "mVOPyPbHfHyC",
        "colab_type": "text"
      },
      "source": [
        "### Method 2: replace missing values with pandas, numpy"
      ]
    },
    {
      "cell_type": "code",
      "metadata": {
        "id": "1pMLMemLfQZi",
        "colab_type": "code",
        "colab": {}
      },
      "source": [
        "data = pd.read_csv(\"/content/titanic/titanic_data.csv\")\n",
        "columns = [\"Age\", \"Sex\", \"Embarked\", \"Survived\"]\n",
        "data = data[columns]\n",
        "data.head()"
      ],
      "execution_count": 0,
      "outputs": []
    },
    {
      "cell_type": "code",
      "metadata": {
        "id": "LrhTFzP9fYsl",
        "colab_type": "code",
        "colab": {}
      },
      "source": [
        "data.info()"
      ],
      "execution_count": 0,
      "outputs": []
    },
    {
      "cell_type": "code",
      "metadata": {
        "id": "XMo6FKZ1fagR",
        "colab_type": "code",
        "colab": {}
      },
      "source": [
        "# replace missing values with fillna \n",
        "data.loc[:, \"Age\"] = data.loc[:, \"Age\"].fillna(data.loc[:, \"Age\"].median())"
      ],
      "execution_count": 0,
      "outputs": []
    },
    {
      "cell_type": "code",
      "metadata": {
        "id": "LWHBkIh7iyvu",
        "colab_type": "code",
        "colab": {}
      },
      "source": [
        "Embarked = data.loc[:, \"Embarked\"].values.reshape(-1, 1)\n",
        "imp_mode = SimpleImputer(strategy = \"most_frequent\")\n",
        "data.loc[:, \"Embarked\"] = imp_mode.fit_transform(Embarked)"
      ],
      "execution_count": 0,
      "outputs": []
    },
    {
      "cell_type": "code",
      "metadata": {
        "id": "LAlNtMSzfsbo",
        "colab_type": "code",
        "colab": {}
      },
      "source": [
        "# data.dropna(axis = 0, inplace = True)\n",
        "# remove all rows with missing values, (axis = 1) --> remove all columns with missing values"
      ],
      "execution_count": 0,
      "outputs": []
    },
    {
      "cell_type": "code",
      "metadata": {
        "id": "mhZuS2a5gdDT",
        "colab_type": "code",
        "colab": {}
      },
      "source": [
        "data.info()"
      ],
      "execution_count": 0,
      "outputs": []
    },
    {
      "cell_type": "markdown",
      "metadata": {
        "id": "sp0G_TuKgE2l",
        "colab_type": "text"
      },
      "source": [
        "# 3. categorical features:编码和哑变量"
      ]
    },
    {
      "cell_type": "markdown",
      "metadata": {
        "id": "evZsYdVhh4Pd",
        "colab_type": "text"
      },
      "source": [
        "### 3.1 Label encoder"
      ]
    },
    {
      "cell_type": "code",
      "metadata": {
        "id": "t48tBG-WgR7k",
        "colab_type": "code",
        "colab": {}
      },
      "source": [
        "from sklearn.preprocessing import LabelEncoder\n",
        "data.iloc[:, -1] = LabelEncoder().fit_transform(data.iloc[:, -1])"
      ],
      "execution_count": 0,
      "outputs": []
    },
    {
      "cell_type": "code",
      "metadata": {
        "id": "GD3EgsiZgqsB",
        "colab_type": "code",
        "colab": {}
      },
      "source": [
        "data.head()"
      ],
      "execution_count": 0,
      "outputs": []
    },
    {
      "cell_type": "markdown",
      "metadata": {
        "id": "RCwMqhxeh7VR",
        "colab_type": "text"
      },
      "source": [
        "### 3.2 Feature encoder (only for practice, not appropriate for this data)"
      ]
    },
    {
      "cell_type": "code",
      "metadata": {
        "id": "mTjQ5mGMh97r",
        "colab_type": "code",
        "colab": {}
      },
      "source": [
        "from sklearn.preprocessing import OrdinalEncoder\n",
        "data_ = data.copy()"
      ],
      "execution_count": 0,
      "outputs": []
    },
    {
      "cell_type": "code",
      "metadata": {
        "id": "tD8dO0wyiIgz",
        "colab_type": "code",
        "colab": {}
      },
      "source": [
        "data_.head()"
      ],
      "execution_count": 0,
      "outputs": []
    },
    {
      "cell_type": "code",
      "metadata": {
        "id": "ZcI1J2JMiLfF",
        "colab_type": "code",
        "colab": {}
      },
      "source": [
        "OrdinalEncoder().fit(data_.iloc[:, 1:-1]).categories_"
      ],
      "execution_count": 0,
      "outputs": []
    },
    {
      "cell_type": "code",
      "metadata": {
        "id": "f-M2Aihni_W4",
        "colab_type": "code",
        "colab": {}
      },
      "source": [
        "data_.iloc[:, 1:-1] = OrdinalEncoder().fit_transform(data_.iloc[:, 1:-1])\n",
        "data_.head()"
      ],
      "execution_count": 0,
      "outputs": []
    },
    {
      "cell_type": "markdown",
      "metadata": {
        "id": "WHD7244Rk75w",
        "colab_type": "text"
      },
      "source": [
        "### 3.3 OneHotEncoder to deal with nominal categorical data"
      ]
    },
    {
      "cell_type": "code",
      "metadata": {
        "id": "Xy3sNEkilD3D",
        "colab_type": "code",
        "colab": {}
      },
      "source": [
        "from sklearn.preprocessing import OneHotEncoder\n",
        "X = data.iloc[:, 1:-1]\n",
        "X.head()"
      ],
      "execution_count": 0,
      "outputs": []
    },
    {
      "cell_type": "code",
      "metadata": {
        "id": "L0wK-c6ZlPme",
        "colab_type": "code",
        "colab": {}
      },
      "source": [
        "result = OneHotEncoder(categories = \"auto\").fit_transform(X).toarray()\n",
        "#.get_feature_names()"
      ],
      "execution_count": 0,
      "outputs": []
    },
    {
      "cell_type": "code",
      "metadata": {
        "id": "9c-_r0f3loPG",
        "colab_type": "code",
        "colab": {}
      },
      "source": [
        "newdata = pd.concat([data, pd.DataFrame(result)], axis = 1)\n",
        "newdata.head()"
      ],
      "execution_count": 0,
      "outputs": []
    },
    {
      "cell_type": "code",
      "metadata": {
        "id": "77FAgzICmT6f",
        "colab_type": "code",
        "colab": {}
      },
      "source": [
        "newdata.drop([\"Sex\", \"Embarked\"], axis = 1, inplace = True)\n",
        "newdata.columns = [\"Age\", \"Survived\", \"Female\", \"Male\", \"Embarked_C\", \"Embarked_Q\", \"Embarked_S\"]\n",
        "newdata.head()"
      ],
      "execution_count": 0,
      "outputs": []
    },
    {
      "cell_type": "markdown",
      "metadata": {
        "id": "HzF8ZPyOn9HS",
        "colab_type": "text"
      },
      "source": [
        "## 4 Continuous feature, e.g. bin"
      ]
    },
    {
      "cell_type": "code",
      "metadata": {
        "id": "ASyji21yoJT0",
        "colab_type": "code",
        "colab": {}
      },
      "source": [
        "data_2 = data.copy()"
      ],
      "execution_count": 0,
      "outputs": []
    },
    {
      "cell_type": "code",
      "metadata": {
        "id": "FRHWhmhKoPHf",
        "colab_type": "code",
        "colab": {}
      },
      "source": [
        "from sklearn.preprocessing import Binarizer #特征专用,不让 1 dim \n",
        "\n",
        "X = data_2.iloc[:, 0].values.reshape(-1, 1)"
      ],
      "execution_count": 0,
      "outputs": []
    },
    {
      "cell_type": "code",
      "metadata": {
        "id": "v02MMW3Hoenh",
        "colab_type": "code",
        "colab": {}
      },
      "source": [
        "transformer = Binarizer(threshold = 30).fit_transform(X)\n",
        "transformer[:10]"
      ],
      "execution_count": 0,
      "outputs": []
    },
    {
      "cell_type": "markdown",
      "metadata": {
        "id": "k7YO3FaWowjg",
        "colab_type": "text"
      },
      "source": [
        "## 5. 连续型变量进行分箱\n",
        "\n",
        "### preprocessing.KBinsDiscretizer\n",
        "\n",
        "- n_bins, 默认分箱为5， 一次会被运用到所有倒入的特征\n",
        "- encoder， 默认“onehot”\n",
        "- strategy, 默认“quantile\"， 等位分箱， 每个特征中的每个箱内的数量样本都相同\n",
        "  - \"uniform\": 等宽分箱， 即每个特征中的每个箱的最大值之间的差为（max-min）/n_bins\n",
        "  - \"kmeans\":按聚类分箱， 每个箱内中的值到最近的一维k均值聚类的簇心的距离都相同"
      ]
    },
    {
      "cell_type": "code",
      "metadata": {
        "id": "lIl07_bvoqbt",
        "colab_type": "code",
        "colab": {}
      },
      "source": [
        "from sklearn.preprocessing import KBinsDiscretizer\n",
        "\n",
        "X = data.iloc[:, 0].values.reshape(-1, 1)"
      ],
      "execution_count": 0,
      "outputs": []
    },
    {
      "cell_type": "code",
      "metadata": {
        "id": "tfBZP5kwrKDS",
        "colab_type": "code",
        "colab": {}
      },
      "source": [
        "est = KBinsDiscretizer(n_bins = 3, encode = \"ordinal\", strategy = \"uniform\")\n",
        "est.fit_transform(X).ravel()[:20]"
      ],
      "execution_count": 0,
      "outputs": []
    },
    {
      "cell_type": "code",
      "metadata": {
        "id": "VkGfQeUnrjsY",
        "colab_type": "code",
        "colab": {}
      },
      "source": [
        "set(est.fit_transform(X).ravel())"
      ],
      "execution_count": 0,
      "outputs": []
    },
    {
      "cell_type": "code",
      "metadata": {
        "id": "m_qOfZNOq58b",
        "colab_type": "code",
        "colab": {}
      },
      "source": [
        "est = KBinsDiscretizer(n_bins = 3, encode = \"onehot\", strategy = \"uniform\")\n",
        "est.fit_transform(X).toarray()"
      ],
      "execution_count": 0,
      "outputs": []
    },
    {
      "cell_type": "markdown",
      "metadata": {
        "id": "qhDdrBGwUNmT",
        "colab_type": "text"
      },
      "source": [
        "## Part Four: Model building (ignore)\n"
      ]
    },
    {
      "cell_type": "markdown",
      "metadata": {
        "id": "qsbW4mqGUTlc",
        "colab_type": "text"
      },
      "source": [
        "## Part Five: Model evaluation & application (ignore)"
      ]
    },
    {
      "cell_type": "markdown",
      "metadata": {
        "id": "QgfQZRmz1qzW",
        "colab_type": "text"
      },
      "source": [
        "### 分箱方法\n",
        "URL_0 = \"http://www.voidcn.com/article/p-hpqunnqv-bro.html\" \n",
        "\n",
        "URL_1 = \"https://zhuanlan.zhihu.com/p/52312186\"\n",
        "\n",
        "URL_2 = \"https://blog.csdn.net/Pylady/article/details/78882220\"\n",
        "\n",
        "URL_3 = \"https://www.jianshu.com/p/0805f185ecdf\"\n",
        "\n",
        "URL_4 = \"https://zhuanlan.zhihu.com/p/35284849\""
      ]
    }
  ]
}