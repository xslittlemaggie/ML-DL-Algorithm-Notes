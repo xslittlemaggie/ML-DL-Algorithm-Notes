{
  "nbformat": 4,
  "nbformat_minor": 0,
  "metadata": {
    "colab": {
      "name": "Decision Tree from scratch to complete & Limitations.ipynb",
      "version": "0.3.2",
      "provenance": [],
      "include_colab_link": true
    },
    "kernelspec": {
      "name": "python3",
      "display_name": "Python 3"
    }
  },
  "cells": [
    {
      "cell_type": "markdown",
      "metadata": {
        "id": "view-in-github",
        "colab_type": "text"
      },
      "source": [
        "<a href=\"https://colab.research.google.com/github/xslittlemaggie/Other-ML-DL-Algorithm-notes/blob/master/K-%20Means%20from%20scratch.ipynb\" target=\"_parent\"><img src=\"https://colab.research.google.com/assets/colab-badge.svg\" alt=\"Open In Colab\"/></a>"
      ]
    },
    {
      "cell_type": "markdown",
      "metadata": {
        "id": "N8Mw5oMHk3xd",
        "colab_type": "text"
      },
      "source": [
        "<h1><center> K-Means - Unsupervised Learning  </center></h1>"
      ]
    },
    {
      "cell_type": "markdown",
      "metadata": {
        "id": "_edG8MhvKUym",
        "colab_type": "text"
      },
      "source": [
        "Often, the data we encounter in real world won't have flags attached and won't provide labeled answers to the questions. Finding patterns in this type of data, unlabeled data, is a common theme in many machine learning applications. Unsupervised learning is how we find patterns and structure in these data.\n",
        "\n",
        "**Clustering** is the most well-known unsupervised learning technique. It finds streucture in unlabeled data by identifying similar groups, or clusters. Examples of clustering applications are:\n",
        "\n",
        "- **Recommendations engines:** group products to personalize the user experience\n",
        "\n",
        "- **Search engines:** group news topics and search results\n",
        "\n",
        "- **Market segmentation:** group customers based on geography, demography, and behaviors\n",
        "\n",
        "- **Image segmentation:** medical imaging or road scene segmentation on self-driving cars"
      ]
    },
    {
      "cell_type": "markdown",
      "metadata": {
        "id": "wK8dm2NZLS68",
        "colab_type": "text"
      },
      "source": [
        "The goal of clustering is to separate data so that data similar to one another are in the same group, while data different from one another are in different groups. So two questions arise:\n",
        "\n",
        "- How many groups do we choose?\n",
        "\n",
        "- How do we define similarity?\n",
        "\n",
        "**K-Means** is the most popular and well-known clustering algorithm, and it tries to address these two questions.\n",
        "\n",
        "- The K refers to the number of clusters(groups) we expect to find in a dataset.\n",
        "\n",
        "- The Means refers to the average distance of data to each cluster center, also known as the centroid, which we are trying to minimize.\n",
        "\n",
        "It is an iterative approach:\n",
        "\n",
        "1. Place K random centroids for the initial clusters.\n",
        "\n",
        "2. Assign data samples to the nearest centroid.\n",
        "\n",
        "3. Udate centroids based on the above=assigned data samples.\n",
        "\n",
        "Repeat Steps 2 and 3 until convergence (when points don't move between clusters and centroids stabilize).\n",
        "\n",
        "Once we are happy with our clusters, we can take a new unlabeled datapoint and quickly assign it to the appropriate cluster."
      ]
    },
    {
      "cell_type": "markdown",
      "metadata": {
        "id": "um82UUAZblkp",
        "colab_type": "text"
      },
      "source": [
        "# Part One: Realization of KMeans from scratch to complete"
      ]
    },
    {
      "cell_type": "markdown",
      "metadata": {
        "id": "V51tojpsOTV8",
        "colab_type": "text"
      },
      "source": [
        "## Step 0: Import library"
      ]
    },
    {
      "cell_type": "code",
      "metadata": {
        "id": "PD8HvuPmv13n",
        "colab_type": "code",
        "colab": {}
      },
      "source": [
        "from sklearn import datasets\n",
        "import numpy as np\n",
        "from copy import deepcopy\n",
        "import matplotlib.pyplot as plt"
      ],
      "execution_count": 0,
      "outputs": []
    },
    {
      "cell_type": "markdown",
      "metadata": {
        "id": "RBiW1j5lv7G5",
        "colab_type": "text"
      },
      "source": [
        "## Step 1: Iris Dataset\n",
        "\n",
        "Take the Iris dataset as example. "
      ]
    },
    {
      "cell_type": "code",
      "metadata": {
        "id": "03V6ilEVM6ST",
        "colab_type": "code",
        "colab": {}
      },
      "source": [
        "iris = datasets.load_iris()"
      ],
      "execution_count": 0,
      "outputs": []
    },
    {
      "cell_type": "code",
      "metadata": {
        "id": "_dN5Fuw6M9Hw",
        "colab_type": "code",
        "outputId": "d2f8d746-c569-4757-8b04-805570e36a0f",
        "colab": {
          "base_uri": "https://localhost:8080/",
          "height": 104
        }
      },
      "source": [
        "#print(iris.data)\n",
        "print(iris.target)"
      ],
      "execution_count": 0,
      "outputs": [
        {
          "output_type": "stream",
          "text": [
            "[0 0 0 0 0 0 0 0 0 0 0 0 0 0 0 0 0 0 0 0 0 0 0 0 0 0 0 0 0 0 0 0 0 0 0 0 0\n",
            " 0 0 0 0 0 0 0 0 0 0 0 0 0 1 1 1 1 1 1 1 1 1 1 1 1 1 1 1 1 1 1 1 1 1 1 1 1\n",
            " 1 1 1 1 1 1 1 1 1 1 1 1 1 1 1 1 1 1 1 1 1 1 1 1 1 1 2 2 2 2 2 2 2 2 2 2 2\n",
            " 2 2 2 2 2 2 2 2 2 2 2 2 2 2 2 2 2 2 2 2 2 2 2 2 2 2 2 2 2 2 2 2 2 2 2 2 2\n",
            " 2 2]\n"
          ],
          "name": "stdout"
        }
      ]
    },
    {
      "cell_type": "markdown",
      "metadata": {
        "id": "lx1-h7CcNDez",
        "colab_type": "text"
      },
      "source": [
        "- **Column 0:** Sepal length\n",
        "- **Column 1:** Sepal width\n",
        "- **Column 2:** Petal length\n",
        "- **Column 3:** Petal width"
      ]
    },
    {
      "cell_type": "code",
      "metadata": {
        "id": "ZB4Bn79pNbh4",
        "colab_type": "code",
        "outputId": "9c89b602-6ae5-4b71-8fa5-08b694eacab5",
        "colab": {
          "base_uri": "https://localhost:8080/",
          "height": 1000
        }
      },
      "source": [
        "print(iris.DESCR)"
      ],
      "execution_count": 0,
      "outputs": [
        {
          "output_type": "stream",
          "text": [
            ".. _iris_dataset:\n",
            "\n",
            "Iris plants dataset\n",
            "--------------------\n",
            "\n",
            "**Data Set Characteristics:**\n",
            "\n",
            "    :Number of Instances: 150 (50 in each of three classes)\n",
            "    :Number of Attributes: 4 numeric, predictive attributes and the class\n",
            "    :Attribute Information:\n",
            "        - sepal length in cm\n",
            "        - sepal width in cm\n",
            "        - petal length in cm\n",
            "        - petal width in cm\n",
            "        - class:\n",
            "                - Iris-Setosa\n",
            "                - Iris-Versicolour\n",
            "                - Iris-Virginica\n",
            "                \n",
            "    :Summary Statistics:\n",
            "\n",
            "    ============== ==== ==== ======= ===== ====================\n",
            "                    Min  Max   Mean    SD   Class Correlation\n",
            "    ============== ==== ==== ======= ===== ====================\n",
            "    sepal length:   4.3  7.9   5.84   0.83    0.7826\n",
            "    sepal width:    2.0  4.4   3.05   0.43   -0.4194\n",
            "    petal length:   1.0  6.9   3.76   1.76    0.9490  (high!)\n",
            "    petal width:    0.1  2.5   1.20   0.76    0.9565  (high!)\n",
            "    ============== ==== ==== ======= ===== ====================\n",
            "\n",
            "    :Missing Attribute Values: None\n",
            "    :Class Distribution: 33.3% for each of 3 classes.\n",
            "    :Creator: R.A. Fisher\n",
            "    :Donor: Michael Marshall (MARSHALL%PLU@io.arc.nasa.gov)\n",
            "    :Date: July, 1988\n",
            "\n",
            "The famous Iris database, first used by Sir R.A. Fisher. The dataset is taken\n",
            "from Fisher's paper. Note that it's the same as in R, but not as in the UCI\n",
            "Machine Learning Repository, which has two wrong data points.\n",
            "\n",
            "This is perhaps the best known database to be found in the\n",
            "pattern recognition literature.  Fisher's paper is a classic in the field and\n",
            "is referenced frequently to this day.  (See Duda & Hart, for example.)  The\n",
            "data set contains 3 classes of 50 instances each, where each class refers to a\n",
            "type of iris plant.  One class is linearly separable from the other 2; the\n",
            "latter are NOT linearly separable from each other.\n",
            "\n",
            ".. topic:: References\n",
            "\n",
            "   - Fisher, R.A. \"The use of multiple measurements in taxonomic problems\"\n",
            "     Annual Eugenics, 7, Part II, 179-188 (1936); also in \"Contributions to\n",
            "     Mathematical Statistics\" (John Wiley, NY, 1950).\n",
            "   - Duda, R.O., & Hart, P.E. (1973) Pattern Classification and Scene Analysis.\n",
            "     (Q327.D83) John Wiley & Sons.  ISBN 0-471-22361-1.  See page 218.\n",
            "   - Dasarathy, B.V. (1980) \"Nosing Around the Neighborhood: A New System\n",
            "     Structure and Classification Rule for Recognition in Partially Exposed\n",
            "     Environments\".  IEEE Transactions on Pattern Analysis and Machine\n",
            "     Intelligence, Vol. PAMI-2, No. 1, 67-71.\n",
            "   - Gates, G.W. (1972) \"The Reduced Nearest Neighbor Rule\".  IEEE Transactions\n",
            "     on Information Theory, May 1972, 431-433.\n",
            "   - See also: 1988 MLC Proceedings, 54-64.  Cheeseman et al\"s AUTOCLASS II\n",
            "     conceptual clustering system finds 3 classes in the data.\n",
            "   - Many, many more ...\n"
          ],
          "name": "stdout"
        }
      ]
    },
    {
      "cell_type": "markdown",
      "metadata": {
        "id": "XhZKKvCDwP6z",
        "colab_type": "text"
      },
      "source": [
        "## Step 2: A pilot study of the visualization of two features"
      ]
    },
    {
      "cell_type": "code",
      "metadata": {
        "id": "tG4ElJmsOOEx",
        "colab_type": "code",
        "colab": {}
      },
      "source": [
        "samples = iris.data\n",
        "target = iris.target\n",
        "x = samples[:, 0] # all rows first column\n",
        "y = samples[:, 1] # all rows second column\n",
        "sepal_length_width = np.array(list(zip(x, y)))"
      ],
      "execution_count": 0,
      "outputs": []
    },
    {
      "cell_type": "code",
      "metadata": {
        "id": "08-9kuEKOONf",
        "colab_type": "code",
        "outputId": "ae9d879a-7a2a-4a6f-e3cb-67bcd7cb56c8",
        "colab": {
          "base_uri": "https://localhost:8080/",
          "height": 269
        }
      },
      "source": [
        "plt.scatter(x, y)\n",
        "plt.show()"
      ],
      "execution_count": 0,
      "outputs": [
        {
          "output_type": "display_data",
          "data": {
            "image/png": "[encoded data removed]",
            "text/plain": [
              "<Figure size 432x288 with 1 Axes>"
            ]
          },
          "metadata": {
            "tags": []
          }
        }
      ]
    },
    {
      "cell_type": "markdown",
      "metadata": {
        "id": "O8Q1mkbLQBvo",
        "colab_type": "text"
      },
      "source": [
        "From the scatterplot above, based on these two features, the datapoints could be generalized into 2 groups. "
      ]
    },
    {
      "cell_type": "markdown",
      "metadata": {
        "id": "P7vkca3uQK7Y",
        "colab_type": "text"
      },
      "source": [
        "## Step 3: Implementing K-Means"
      ]
    },
    {
      "cell_type": "markdown",
      "metadata": {
        "id": "SdaL3np2QQaS",
        "colab_type": "text"
      },
      "source": [
        "### 3.1: Place k random centroids for the initial clusters"
      ]
    },
    {
      "cell_type": "code",
      "metadata": {
        "id": "rGBuD6xlv8ZY",
        "colab_type": "code",
        "colab": {}
      },
      "source": [
        "# Create a variable named k and set it to 3\n",
        "k = 3"
      ],
      "execution_count": 0,
      "outputs": []
    },
    {
      "cell_type": "markdown",
      "metadata": {
        "id": "cMAZjoIwQ43E",
        "colab_type": "text"
      },
      "source": [
        "use random.uniform() function to generate random values in two lists\n",
        "\n",
        "- a centroids_x list that will have k random values between min(x) and mx(x)\n",
        "\n",
        "- a centroids_y list that wil lhave k random values between min(y) and max(y)\n",
        "\n",
        "The random.uniform() function looks like: **np.random.uniform(low, high, size)**"
      ]
    },
    {
      "cell_type": "code",
      "metadata": {
        "id": "l00LVL6nQrwD",
        "colab_type": "code",
        "colab": {}
      },
      "source": [
        "centroids_x = np.random.uniform(min(x), max(x), k)\n",
        "centroids_y = np.random.uniform(min(y), max(y), k)"
      ],
      "execution_count": 0,
      "outputs": []
    },
    {
      "cell_type": "code",
      "metadata": {
        "id": "INR7Aki2Ri7V",
        "colab_type": "code",
        "colab": {}
      },
      "source": [
        "# create an array named centroids\n",
        "centroids = np.array(list(zip(centroids_x, centroids_y)))"
      ],
      "execution_count": 0,
      "outputs": []
    },
    {
      "cell_type": "code",
      "metadata": {
        "id": "SVlgjTULSLNI",
        "colab_type": "code",
        "outputId": "21279d34-f238-4e7f-8994-2cc5acb6c6db",
        "colab": {
          "base_uri": "https://localhost:8080/",
          "height": 269
        }
      },
      "source": [
        "# datapoints visualization with the initial points\n",
        "plt.scatter(x, y)\n",
        "plt.scatter(centroids_x, centroids_y)\n",
        "plt.show()"
      ],
      "execution_count": 0,
      "outputs": [
        {
          "output_type": "display_data",
          "data": {
            "image/png": "[encoded data removed]",
            "text/plain": [
              "<Figure size 432x288 with 1 Axes>"
            ]
          },
          "metadata": {
            "tags": []
          }
        }
      ]
    },
    {
      "cell_type": "markdown",
      "metadata": {
        "id": "WD_ENox4SXxK",
        "colab_type": "text"
      },
      "source": [
        "### 3.2 Assign data samples to the nearest centroid"
      ]
    },
    {
      "cell_type": "markdown",
      "metadata": {
        "id": "NCkEVKtmS2d9",
        "colab_type": "text"
      },
      "source": [
        "write a distance() function to iterate through each datapoint and compute the distance from each data point to each of the 3 centroids\n",
        "\n",
        "For example, if we have a point and a list of the three distances in distances and it looks like [15, 20, 5], then we would want to assign the data point to the 3rd centroid. The argmin(distances) would return the index of the lowest corresponding distance, 2."
      ]
    },
    {
      "cell_type": "code",
      "metadata": {
        "id": "0bBmRRqJSOHe",
        "colab_type": "code",
        "colab": {}
      },
      "source": [
        "def distance(a, b):\n",
        "  distance = 0\n",
        "  for i in range(len(a)):\n",
        "    distance += (a[i]-b[i]) ** 2 \n",
        "    \n",
        "  return distance ** 0.5\n",
        "\n",
        "# create an array called labels that will hold the cluster labels for each data point. its size should be the lenght of the data \n",
        "labels = np.zeros(len(samples))\n",
        "\n",
        "# create an array called distances that will hold the distances for each centroid. It shoul dhave the size of K\n",
        "distances = np.zeros(k)"
      ],
      "execution_count": 0,
      "outputs": []
    },
    {
      "cell_type": "markdown",
      "metadata": {
        "id": "7Cn5SqZyUJSU",
        "colab_type": "text"
      },
      "source": [
        "To assign each data point to the closet centroid, we need to iterate through the whole data sample and calculate each data point's distance to each centroid. \n",
        "\n",
        "We can get the index of the smallest distance of distance."
      ]
    },
    {
      "cell_type": "code",
      "metadata": {
        "id": "ssp-ibr7UBha",
        "colab_type": "code",
        "colab": {}
      },
      "source": [
        "for i in range(len(samples)):\n",
        "  distances[0] = distance(sepal_length_width[i], centroids[0])\n",
        "  distances[1] = distance(sepal_length_width[i], centroids[1])\n",
        "  distances[2] = distance(sepal_length_width[i], centroids[2])\n",
        "  \n",
        "  cluster = np.argmin(distances)\n",
        "  labels[i] = cluster"
      ],
      "execution_count": 0,
      "outputs": []
    },
    {
      "cell_type": "code",
      "metadata": {
        "id": "d0qF8AxMU7uE",
        "colab_type": "code",
        "outputId": "0dbf31ef-485b-4f35-e316-bb95c9a0f2dc",
        "colab": {
          "base_uri": "https://localhost:8080/",
          "height": 138
        }
      },
      "source": [
        "print(labels)"
      ],
      "execution_count": 0,
      "outputs": [
        {
          "output_type": "stream",
          "text": [
            "[1. 0. 0. 0. 1. 1. 0. 1. 0. 0. 1. 0. 0. 0. 1. 1. 1. 1. 1. 1. 1. 1. 1. 0.\n",
            " 0. 0. 1. 1. 1. 0. 0. 1. 1. 1. 0. 0. 1. 1. 0. 1. 1. 0. 0. 1. 1. 0. 1. 0.\n",
            " 1. 0. 2. 2. 2. 0. 2. 0. 2. 0. 2. 0. 0. 0. 0. 2. 0. 2. 0. 0. 0. 0. 1. 2.\n",
            " 2. 2. 2. 2. 2. 2. 0. 0. 0. 0. 0. 0. 0. 1. 2. 2. 0. 0. 0. 2. 0. 0. 0. 0.\n",
            " 0. 2. 0. 0. 2. 0. 2. 2. 2. 2. 0. 2. 2. 2. 2. 2. 2. 0. 0. 2. 2. 2. 2. 0.\n",
            " 2. 0. 2. 2. 2. 2. 2. 2. 2. 2. 2. 2. 2. 2. 0. 2. 1. 2. 0. 2. 2. 2. 0. 2.\n",
            " 2. 2. 2. 2. 1. 0.]\n"
          ],
          "name": "stdout"
        }
      ]
    },
    {
      "cell_type": "markdown",
      "metadata": {
        "id": "sH3ZI1uKVNWz",
        "colab_type": "text"
      },
      "source": [
        "### 3.3 Update centroids based on the above-assigned data samples"
      ]
    },
    {
      "cell_type": "markdown",
      "metadata": {
        "id": "tgjpYFTrVSbu",
        "colab_type": "text"
      },
      "source": [
        "Save the centroids value before updating"
      ]
    },
    {
      "cell_type": "code",
      "metadata": {
        "id": "17qPioqkVAup",
        "colab_type": "code",
        "colab": {}
      },
      "source": [
        "centroids_old =  deepcopy(centroids)"
      ],
      "execution_count": 0,
      "outputs": []
    },
    {
      "cell_type": "code",
      "metadata": {
        "id": "OZOmLeHlVbNI",
        "colab_type": "code",
        "outputId": "58f3fe4e-148d-4bc9-a10a-324cdf0d1382",
        "colab": {
          "base_uri": "https://localhost:8080/",
          "height": 104
        }
      },
      "source": [
        "# update centroids\n",
        "for i in range(k):\n",
        "  points = [sepal_length_width[j] for j in range(len(sepal_length_width)) if labels[j] == i]\n",
        "  centroids[i] = np.mean(points, axis = 0)\n",
        "\n",
        "print(\"Old centroids:\")\n",
        "print(centroids_old)\n",
        "print(\"--------------------------\")\n",
        "print(\"Updated centroids:\")\n",
        "print(centroids)"
      ],
      "execution_count": 0,
      "outputs": [
        {
          "output_type": "stream",
          "text": [
            "Old centroids:\n",
            "[array([5.36666667, 2.73333333]), array([5.10526316, 3.57368421]), array([6.6390625, 2.99375  ])]\n",
            "--------------------------\n",
            "Updated centroids:\n",
            "[array([5.49512195, 2.6804878 ]), array([5.02888889, 3.49111111]), array([6.6390625, 2.99375  ])]\n"
          ],
          "name": "stdout"
        }
      ]
    },
    {
      "cell_type": "code",
      "metadata": {
        "id": "Q6VXGuBuawJd",
        "colab_type": "code",
        "colab": {}
      },
      "source": [
        ""
      ],
      "execution_count": 0,
      "outputs": []
    },
    {
      "cell_type": "markdown",
      "metadata": {
        "id": "UAvb64AYXj3d",
        "colab_type": "text"
      },
      "source": [
        "### 3.4 Repeate 2 and 3 until converge (the centroids stabilize)"
      ]
    },
    {
      "cell_type": "markdown",
      "metadata": {
        "id": "ezaiWks2X4n-",
        "colab_type": "text"
      },
      "source": [
        "We can do this using a while loop. And everything from 2 and 3 goes inside the loop.\n",
        "\n",
        "For the condition of the while loop, we need to create an array named erros. In each error index, we calculate the difference between the updated centroid(centroids) and the old centroid(centroid_old)\n",
        "\n",
        "The loodp ends when all three values in erros are 0"
      ]
    },
    {
      "cell_type": "code",
      "metadata": {
        "id": "e36xt_kyWJ6U",
        "colab_type": "code",
        "outputId": "9a95aef9-7e52-407e-98f1-f648308b3c8d",
        "colab": {
          "base_uri": "https://localhost:8080/",
          "height": 284
        }
      },
      "source": [
        "error = np.zeros(3)\n",
        "\n",
        "error[0] = distance(centroids[0], centroids_old[0])\n",
        "error[1] = distance(centroids[1], centroids_old[1])\n",
        "error[2] = distance(centroids[2], centroids_old[2])\n",
        "\n",
        "# Repeat Steps 2 and 3 until convergence:\n",
        "\n",
        "while error.all() != 0:\n",
        "\n",
        "  # Step 2: Assign samples to nearest centroid\n",
        "\n",
        "  for i in range(len(samples)):\n",
        "    distances[0] = distance(sepal_length_width[i], centroids[0])\n",
        "    distances[1] = distance(sepal_length_width[i], centroids[1])\n",
        "    distances[2] = distance(sepal_length_width[i], centroids[2])\n",
        "    cluster = np.argmin(distances)\n",
        "    labels[i] = cluster\n",
        "\n",
        "  # Step 3: Update centroids\n",
        "\n",
        "  centroids_old = deepcopy(centroids)\n",
        "\n",
        "  for i in range(3):\n",
        "    points = [sepal_length_width[j] for j in range(len(sepal_length_width)) if labels[j] == i]\n",
        "    centroids[i] = np.mean(points, axis=0)\n",
        "\n",
        "  error[0] = distance(centroids[0], centroids_old[0])\n",
        "  error[1] = distance(centroids[1],   centroids_old[1])\n",
        "  error[2] = distance(centroids[2], centroids_old[2])\n",
        "centroids = np.array(centroids)\n",
        "colors = ['r', 'g', 'b']\n",
        "\n",
        "for i in range(k):\n",
        "  points = np.array([sepal_length_width[j] for j in range(len(samples)) if labels[j] == i])\n",
        "  plt.scatter(points[:, 0], points[:, 1], c=colors[i], alpha=0.5)\n",
        "\n",
        "plt.scatter(centroids[:, 0], centroids[:, 1], marker='D', s=150)\n",
        "\n",
        "plt.xlabel('sepal length (cm)')\n",
        "plt.ylabel('sepal width (cm)')\n",
        "\n",
        "plt.show()\n"
      ],
      "execution_count": 0,
      "outputs": [
        {
          "output_type": "display_data",
          "data": {
            "image/png": "[encoded data removed]",
            "text/plain": [
              "<Figure size 432x288 with 1 Axes>"
            ]
          },
          "metadata": {
            "tags": []
          }
        }
      ]
    },
    {
      "cell_type": "code",
      "metadata": {
        "id": "h8jiYp-6YZil",
        "colab_type": "code",
        "outputId": "488b2fb7-6fb8-41bf-a99e-5806e7ee8f9f",
        "colab": {
          "base_uri": "https://localhost:8080/",
          "height": 35
        }
      },
      "source": [
        "print(error)"
      ],
      "execution_count": 0,
      "outputs": [
        {
          "output_type": "stream",
          "text": [
            "[0. 0. 0.]\n"
          ],
          "name": "stdout"
        }
      ]
    },
    {
      "cell_type": "code",
      "metadata": {
        "id": "LLe3KoLHbzn2",
        "colab_type": "code",
        "outputId": "66d9563b-f5a0-4542-f62f-5e33eaeea39c",
        "colab": {
          "base_uri": "https://localhost:8080/",
          "height": 173
        }
      },
      "source": [
        "# update centroids\n",
        "for i in range(k):\n",
        "  points = [sepal_length_width[j] for j in range(len(sepal_length_width)) if labels[j] == i]\n",
        "  centroids[i] = np.mean(points, axis = 0)\n",
        "\n",
        "print(\"Old centroids:\")\n",
        "print(np.array(centroids_old))\n",
        "print(\"--------------------------\")\n",
        "print(\"Updated centroids:\")\n",
        "print(centroids)"
      ],
      "execution_count": 0,
      "outputs": [
        {
          "output_type": "stream",
          "text": [
            "Old centroids:\n",
            "[[5.49512195 2.6804878 ]\n",
            " [5.02888889 3.49111111]\n",
            " [6.6390625  2.99375   ]]\n",
            "--------------------------\n",
            "Updated centroids:\n",
            "[[5.49512195 2.6804878 ]\n",
            " [5.02888889 3.49111111]\n",
            " [6.6390625  2.99375   ]]\n"
          ],
          "name": "stdout"
        }
      ]
    },
    {
      "cell_type": "markdown",
      "metadata": {
        "id": "8-Simh1ib__u",
        "colab_type": "text"
      },
      "source": [
        "From the results above, the error converges to all zeros, and the the old centroids and updated centroids overlap."
      ]
    },
    {
      "cell_type": "markdown",
      "metadata": {
        "id": "_EpoykfJcJSN",
        "colab_type": "text"
      },
      "source": [
        "# Part Two: Implementing K-Means with Scikit-Learn"
      ]
    },
    {
      "cell_type": "markdown",
      "metadata": {
        "id": "3ITAVFOMdDnE",
        "colab_type": "text"
      },
      "source": [
        "### 1. Create & fit the model"
      ]
    },
    {
      "cell_type": "code",
      "metadata": {
        "id": "DWUR4-udb4Rg",
        "colab_type": "code",
        "colab": {}
      },
      "source": [
        "from sklearn.cluster import KMeans"
      ],
      "execution_count": 0,
      "outputs": []
    },
    {
      "cell_type": "code",
      "metadata": {
        "id": "bgxM9JBUcYR3",
        "colab_type": "code",
        "outputId": "ce883691-fac5-4755-8f91-704f8e914f9b",
        "colab": {
          "base_uri": "https://localhost:8080/",
          "height": 104
        }
      },
      "source": [
        "model = KMeans(n_clusters = 3)\n",
        "model.fit(samples) # the data without labels\n",
        "labels = model.predict(samples)\n",
        "print(labels)"
      ],
      "execution_count": 0,
      "outputs": [
        {
          "output_type": "stream",
          "text": [
            "[1 1 1 1 1 1 1 1 1 1 1 1 1 1 1 1 1 1 1 1 1 1 1 1 1 1 1 1 1 1 1 1 1 1 1 1 1\n",
            " 1 1 1 1 1 1 1 1 1 1 1 1 1 2 2 0 2 2 2 2 2 2 2 2 2 2 2 2 2 2 2 2 2 2 2 2 2\n",
            " 2 2 2 0 2 2 2 2 2 2 2 2 2 2 2 2 2 2 2 2 2 2 2 2 2 2 0 2 0 0 0 0 2 0 0 0 0\n",
            " 0 0 2 2 0 0 0 0 2 0 2 0 2 0 0 2 2 0 0 0 0 0 2 0 0 0 0 2 0 0 0 2 0 0 0 2 0\n",
            " 0 2]\n"
          ],
          "name": "stdout"
        }
      ]
    },
    {
      "cell_type": "markdown",
      "metadata": {
        "id": "zEZhcRpsdJkX",
        "colab_type": "text"
      },
      "source": [
        "### 2. Predict on new datasets"
      ]
    },
    {
      "cell_type": "code",
      "metadata": {
        "id": "f2BY964YdMlQ",
        "colab_type": "code",
        "colab": {}
      },
      "source": [
        "new_samples = np.array([[5.7, 4.4, 1.5, 0.4],\n",
        "   [6.5, 3. , 5.5, 0.4],\n",
        "   [5.8, 2.7, 5.1, 1.9]])"
      ],
      "execution_count": 0,
      "outputs": []
    },
    {
      "cell_type": "code",
      "metadata": {
        "id": "xg8o4nsPdZyo",
        "colab_type": "code",
        "outputId": "51a9bdfb-4fad-43a2-cd51-ec43c04fc0ea",
        "colab": {
          "base_uri": "https://localhost:8080/",
          "height": 35
        }
      },
      "source": [
        "new_predictions = model.predict(new_samples)\n",
        "print(new_predictions)"
      ],
      "execution_count": 0,
      "outputs": [
        {
          "output_type": "stream",
          "text": [
            "[1 2 2]\n"
          ],
          "name": "stdout"
        }
      ]
    },
    {
      "cell_type": "markdown",
      "metadata": {
        "id": "FHWJioC8djRl",
        "colab_type": "text"
      },
      "source": [
        "### 3. Visualize After K-Means"
      ]
    },
    {
      "cell_type": "code",
      "metadata": {
        "id": "bEN27fd6dnt_",
        "colab_type": "code",
        "outputId": "d0d9c079-ac69-4c55-9cbe-0c6d3d5e648b",
        "colab": {
          "base_uri": "https://localhost:8080/",
          "height": 301
        }
      },
      "source": [
        "plt.scatter(x, y, c=labels, alpha=0.5)\n",
        "\n",
        "plt.xlabel('sepal length (cm)')\n",
        "plt.ylabel('sepal width (cm)')"
      ],
      "execution_count": 0,
      "outputs": [
        {
          "output_type": "execute_result",
          "data": {
            "text/plain": [
              "Text(0, 0.5, 'sepal width (cm)')"
            ]
          },
          "metadata": {
            "tags": []
          },
          "execution_count": 74
        },
        {
          "output_type": "display_data",
          "data": {
            "image/png": "[encoded data removed]",
            "text/plain": [
              "<Figure size 432x288 with 1 Axes>"
            ]
          },
          "metadata": {
            "tags": []
          }
        }
      ]
    },
    {
      "cell_type": "markdown",
      "metadata": {
        "id": "--bm-nZ5eGLT",
        "colab_type": "text"
      },
      "source": [
        "### 4. Evaluation"
      ]
    },
    {
      "cell_type": "code",
      "metadata": {
        "id": "siGO9lSxeNps",
        "colab_type": "code",
        "colab": {}
      },
      "source": [
        "species = np.chararray(target.shape, itemsize=150)\n",
        "\n",
        "for i in range(len(samples)):\n",
        "  if target[i] == 0:\n",
        "    species[i] = 'setosa'\n",
        "  elif target[i] == 1:\n",
        "    species[i] = 'veriscolor'\n",
        "  elif target[i] == 2: \n",
        "    species[i] = 'virginica'"
      ],
      "execution_count": 0,
      "outputs": []
    },
    {
      "cell_type": "code",
      "metadata": {
        "id": "whlV5Iolezw_",
        "colab_type": "code",
        "colab": {}
      },
      "source": [
        "import pandas as pd\n",
        "df = pd.DataFrame({'labels': labels, 'species': species})  # labels are the results predicted from the model"
      ],
      "execution_count": 0,
      "outputs": []
    },
    {
      "cell_type": "code",
      "metadata": {
        "id": "CT-zWLTje7pr",
        "colab_type": "code",
        "outputId": "89ae754a-c679-4330-cbff-0d16177ebf9c",
        "colab": {
          "base_uri": "https://localhost:8080/",
          "height": 104
        }
      },
      "source": [
        "ct = pd.crosstab(df['labels'], df['species'])\n",
        "\n",
        "print(ct)"
      ],
      "execution_count": 0,
      "outputs": [
        {
          "output_type": "stream",
          "text": [
            "species  b'setosa'  b'veriscolor'  b'virginica'\n",
            "labels                                         \n",
            "0                0              2            36\n",
            "1               50              0             0\n",
            "2                0             48            14\n"
          ],
          "name": "stdout"
        }
      ]
    },
    {
      "cell_type": "markdown",
      "metadata": {
        "id": "Iab0dMO5f6kR",
        "colab_type": "text"
      },
      "source": [
        "### 5. More discussion about the number of Cluster"
      ]
    },
    {
      "cell_type": "markdown",
      "metadata": {
        "id": "FGbMnw6RgBUo",
        "colab_type": "text"
      },
      "source": [
        "At this point, we have grouped the Iris plants into 3 clusters because we know the Iris has three groups. \n",
        "How about if we don't have this information before?\n",
        "\n",
        "Good clustering results in tight clusters, meaning that the samples in each cluster are bunched together. How spread out the clusters are is measured by inertia. Inertia is the distance from each sample to the centroid of its cluster. The lower the inertia is, the better our model has doen. "
      ]
    },
    {
      "cell_type": "code",
      "metadata": {
        "id": "mIiHyJa3fiQP",
        "colab_type": "code",
        "outputId": "8aa482e4-cb94-4ca1-ea59-bd969587d44d",
        "colab": {
          "base_uri": "https://localhost:8080/",
          "height": 35
        }
      },
      "source": [
        "print(model.inertia_)"
      ],
      "execution_count": 0,
      "outputs": [
        {
          "output_type": "stream",
          "text": [
            "78.85144142614601\n"
          ],
          "name": "stdout"
        }
      ]
    },
    {
      "cell_type": "code",
      "metadata": {
        "id": "rJR8W8CLglAO",
        "colab_type": "code",
        "colab": {}
      },
      "source": [
        "num_clusters = list(range(1, 9))\n",
        "\n",
        "inertias = []\n",
        "for i in num_clusters:\n",
        "  model = KMeans(n_clusters = i)\n",
        "  model.fit(samples)\n",
        "  inertia = model.inertia_\n",
        "  inertias.append(inertia)"
      ],
      "execution_count": 0,
      "outputs": []
    },
    {
      "cell_type": "code",
      "metadata": {
        "id": "H602hhj0g2UX",
        "colab_type": "code",
        "outputId": "3ae9c4af-a286-4eb8-e853-0099da74d2b8",
        "colab": {
          "base_uri": "https://localhost:8080/",
          "height": 284
        }
      },
      "source": [
        "plt.plot(num_clusters, inertias, '-o')\n",
        "plt.xlabel(\"Number of Clusters (K)\")\n",
        "plt.ylabel(\"Inertia\")\n",
        "plt.show()"
      ],
      "execution_count": 0,
      "outputs": [
        {
          "output_type": "display_data",
          "data": {
            "image/png": "[encoded data removed]",
            "text/plain": [
              "<Figure size 432x288 with 1 Axes>"
            ]
          },
          "metadata": {
            "tags": []
          }
        }
      ]
    },
    {
      "cell_type": "code",
      "metadata": {
        "id": "hQxvteSbho1D",
        "colab_type": "code",
        "colab": {}
      },
      "source": [
        ""
      ],
      "execution_count": 0,
      "outputs": []
    }
  ]
}