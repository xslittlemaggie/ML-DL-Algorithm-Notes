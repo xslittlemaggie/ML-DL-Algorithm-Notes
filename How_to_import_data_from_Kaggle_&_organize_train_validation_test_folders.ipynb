{
  "nbformat": 4,
  "nbformat_minor": 0,
  "metadata": {
    "colab": {
      "name": "How to import data from Kaggle & organize train/valid/test folders.ipynb",
      "version": "0.3.2",
      "provenance": [],
      "include_colab_link": true
    },
    "kernelspec": {
      "name": "python3",
      "display_name": "Python 3"
    }
  },
  "cells": [
    {
      "cell_type": "markdown",
      "metadata": {
        "id": "view-in-github",
        "colab_type": "text"
      },
      "source": [
        "<a href=\"https://colab.research.google.com/github/xslittlemaggie/Other-ML-DL-Algorithm-notes/blob/master/How_to_import_data_from_Kaggle_%26_organize_train_validation_test_folders.ipynb\" target=\"_parent\"><img src=\"https://colab.research.google.com/assets/colab-badge.svg\" alt=\"Open In Colab\"/></a>"
      ]
    },
    {
      "cell_type": "code",
      "metadata": {
        "id": "O0dd1Uxtn6Bi",
        "colab_type": "code",
        "colab": {}
      },
      "source": [
        "import random\n",
        "import urllib.request\n",
        "import os\n",
        "import cv2\n",
        "import glob"
      ],
      "execution_count": 0,
      "outputs": []
    },
    {
      "cell_type": "code",
      "metadata": {
        "id": "r_uCVhe3nrD2",
        "colab_type": "code",
        "colab": {}
      },
      "source": [
        "def load_data_from_kaggle():\n",
        "  os.environ['KAGGLE_USERNAME'] = \"maggie\" # username from the json file \n",
        "  os.environ['KAGGLE_KEY'] = \"7adfc6c4e6c5eec087031fbb7397aee5\" # key from the json file (This key is incorrect)\n",
        "  \n",
        "  !pip install -q kaggle\n",
        "  !kaggle datasets list -s dogs-vs-cats  # It will list the 20 datasets including \"dogs-vs-cats\" from kaggle\n",
        "  !kaggle datasets download -d biaiscience/dogs-vs-cats -p /content/\n",
        "  !unzip -q /content/dogs-vs-cats.zip -d /content/dogs-vs-cats/\n",
        "  !unzip -q /content/dogs-vs-cats/train.zip -d /content/dogs-vs-cats/\n",
        "  !unzip -q /content/dogs-vs-cats/test.zip -d /content/dogs-vs-cats/\n",
        "  \n",
        "  # splits pictures into cats and dogs files for train dataset\n",
        "  os.mkdir(\"/content/dogs-vs-cats/train/cats\")\n",
        "  os.mkdir(\"/content/dogs-vs-cats/train/dogs\")\n",
        "\n",
        "  # create validation file to store validation dataset\n",
        "  os.mkdir(\"/content/dogs-vs-cats/validation\")\n",
        "\n",
        "  os.mkdir(\"/content/dogs-vs-cats/validation/cats\")\n",
        "  os.mkdir(\"/content/dogs-vs-cats/validation/dogs\")\n",
        "\n",
        "  # create subfile from test to store testing dataset\n",
        "  os.mkdir(\"/content/dogs-vs-cats/test/unlabelled\")\n",
        "  \n",
        "  # move all pictures labelled \"cat\" to \"/cat/s\" file and all picture labelled \"dog\" to \"/dogs/\" file in training\n",
        "  pathes = glob.glob('/content/dogs-vs-cats/train/*.jpg')\n",
        "  for path in pathes:\n",
        "    head, tail = os.path.split(path)\n",
        "    if tail[:3] == \"cat\":\n",
        "      new_path = head + \"/cats/\" + tail  \n",
        "    else:\n",
        "      new_path = head + \"/dogs/\" + tail\n",
        "    os.rename(path, new_path)\n",
        "    \n",
        "  # move all pictures from testing file to test subfile \"/unlabelled/\" for predicting later\n",
        "  pathes = glob.glob('/content/dogs-vs-cats/test/*.jpg')\n",
        "  for path in pathes:\n",
        "    head, tail = os.path.split(path)\n",
        "    new_path = head + \"/unlabelled/\" + tail\n",
        "    os.rename(path, new_path)\n",
        "    \n",
        "  # cats in validation data\n",
        "  cats_pathes = glob.glob('/content/dogs-vs-cats/train/cats/*.jpg') \n",
        "  val_cats_idx = random.sample((range(12500)), k = 1250)\n",
        "  val_cats = [cats_pathes[idx] for idx in val_cats_idx]\n",
        "\n",
        "  for path in val_cats:\n",
        "    head, tail = os.path.split(path)  \n",
        "    new_path = head[:-10] + \"validation/cats/\" + tail \n",
        "    os.rename(path, new_path)  \n",
        "\n",
        "  # dogs in validation data\n",
        "  dogs_pathes = glob.glob('/content/dogs-vs-cats/train/dogs/*.jpg') \n",
        "  val_dogs_idx = random.sample((range(12500)), k = 1250)\n",
        "  val_dogs = [dogs_pathes[idx] for idx in val_dogs_idx]\n",
        "\n",
        "  for path in val_dogs:\n",
        "    head, tail = os.path.split(path)  \n",
        "    new_path = head[:-10] + \"validation/dogs/\" + tail \n",
        "    os.rename(path, new_path)  \n",
        "    \n",
        "  DATADIR_train = \"/content/dogs-vs-cats/train\"\n",
        "  DATADIR_validation = \"/content/dogs-vs-cats/validation\"\n",
        "  DATADIR_test = \"/content/dogs-vs-cats/test\"\n",
        "  \n",
        "  # train file\n",
        "  train_dogs_dir = os.path.join(DATADIR_train, \"dogs\")\n",
        "  train_cats_dir = os.path.join(DATADIR_train, \"cats\")\n",
        "  train_dog_fnames = os.listdir(train_dogs_dir)\n",
        "  train_cat_fnames = os.listdir(train_cats_dir)\n",
        "\n",
        "  print(\"Images from Training file:\")\n",
        "  print(\"cats:\", train_cat_fnames[:5])\n",
        "  print(\"dogs:\", train_dog_fnames[:5])\n",
        "  print('total training cat images :', len(train_cat_fnames))\n",
        "  print('total training dog images :', len(train_dog_fnames ))\n",
        "  print()\n",
        "\n",
        "  # validation file\n",
        "  validation_dogs_dir = os.path.join(DATADIR_validation, \"dogs\")\n",
        "  validation_cats_dir = os.path.join(DATADIR_validation, \"cats\")\n",
        "  validation_dog_fnames = os.listdir(validation_dogs_dir)\n",
        "  validation_cat_fnames = os.listdir(validation_cats_dir)\n",
        "\n",
        "  print(\"Images from validation file:\")\n",
        "  print(validation_cat_fnames[:5])\n",
        "  print(validation_dog_fnames[:5])\n",
        "  print('total validation cat images :', len(validation_cat_fnames))\n",
        "  print('total validation dog images :', len(validation_dog_fnames ))\n",
        "  print()\n",
        "\n",
        "  # test file\n",
        "  #pathes_test = glob.glob('/content/dogs-vs-cats/test/*.jpg')\n",
        "  test_dir = os.path.join(DATADIR_test, \"unlabelled\")\n",
        "  test_fnames = os.listdir(test_dir)\n",
        "  print(\"Images from test file:\")\n",
        "  print(test_fnames[:5])\n",
        "  print('total test images :', len(test_fnames))"
      ],
      "execution_count": 0,
      "outputs": []
    },
    {
      "cell_type": "code",
      "metadata": {
        "id": "-deWv_bln1Yw",
        "colab_type": "code",
        "outputId": "e6a97729-c232-407d-8330-77a1634ce5b6",
        "colab": {
          "base_uri": "https://localhost:8080/",
          "height": 709
        }
      },
      "source": [
        "load_data_from_kaggle()"
      ],
      "execution_count": 0,
      "outputs": [
        {
          "output_type": "stream",
          "text": [
            "ref                                                   title                                               size  lastUpdated          downloadCount  \n",
            "----------------------------------------------------  -------------------------------------------------  -----  -------------------  -------------  \n",
            "nafisur/dogs-vs-cats                                  Dogs_vs_cats                                       217MB  2018-04-25 08:01:49           1485  \n",
            "biaiscience/dogs-vs-cats                              Dogs vs Cats                                       814MB  2017-12-05 14:03:33           1563  \n",
            "dhirensk/cats-vs-dogs-training8000test2000            Cats vs Dogs Training8000Test2000                  218MB  2018-11-21 09:38:07            121  \n",
            "kanwalinder/cats-vs-dogs-redux-transfer-features      Cats vs Dogs Redux Transfer Features                 1GB  2018-08-22 00:46:31             68  \n",
            "prasunroy/natural-images                              Natural Images                                     171MB  2018-08-11 18:24:11           2936  \n",
            "tongpython/cat-and-dog                                Cat and Dog                                        217MB  2018-04-26 10:56:50           7088  \n",
            "salader/dogs-vs-cats                                  dogs vs cats                                       545MB  2018-11-30 19:31:13            374  \n",
            "lucassj/dogs-vs-cats-train-validadion-and-evaluation  Dogs vs. Cats -- train, validadion and evaluation  550MB  2018-09-26 20:10:24            338  \n",
            "mauricefreund/cats-vs-dogs                            cats_vs_dogs                                         6MB  2017-11-06 13:28:08            272  \n",
            "pocahontas1010/dogs-vs-cats-for-pytorch               Dogs vs Cats for Pytorch                           545MB  2018-12-03 21:25:20            124  \n",
            "salader/dogsvscats                                    dogsVScats                                         545MB  2018-11-30 16:21:15             69  \n",
            "pmigdal/alien-vs-predator-images                      Alien vs. Predator images                            7MB  2018-09-27 14:18:46            591  \n",
            "selfishgene/youtube-faces-with-facial-keypoints       YouTube Faces With Facial Keypoints                 10GB  2017-11-14 05:46:08           2815  \n",
            "arnaudeq/cats-vs-dogs-1000                            Cats Vs Dogs (1000)                                 90MB  2018-11-22 20:49:53             33  \n",
            "arnaudeq/cats-vs-dogs-5000                            Cats Vs Dogs (5000)                                268MB  2018-11-22 21:57:23             21  \n",
            "a1041134926/cats-vs-dogs                              cats vs dogs                                        27MB  2018-07-26 08:34:44             26  \n",
            "hellokugo/dogs-vs-cats                                dogs vs cats                                       211KB  2018-02-24 03:54:49             45  \n",
            "ekkus93/keras-models                                  Keras Models                                         1GB  2017-06-21 12:53:13            399  \n",
            "muhammedfathi/pickled-cats-vs-dogs                    Pickled cats vs dogs                                57MB  2018-11-12 20:34:51             20  \n",
            "zyayoung/dogs-vs-cats-features-under-resnet50         Dogs vs Cats features under resnet50               252MB  2018-02-10 09:21:48             34  \n",
            "Downloading dogs-vs-cats.zip to /content\n",
            " 98% 797M/814M [00:06<00:00, 173MB/s]\n",
            "100% 814M/814M [00:06<00:00, 130MB/s]\n",
            "Images from Training file:\n",
            "cats: ['cat.3596.jpg', 'cat.527.jpg', 'cat.11713.jpg', 'cat.9979.jpg', 'cat.10006.jpg']\n",
            "dogs: ['dog.2517.jpg', 'dog.1026.jpg', 'dog.11358.jpg', 'dog.4308.jpg', 'dog.8621.jpg']\n",
            "total training cat images : 11250\n",
            "total training dog images : 11250\n",
            "\n",
            "Images from validation file:\n",
            "['cat.11833.jpg', 'cat.2641.jpg', 'cat.6118.jpg', 'cat.485.jpg', 'cat.2766.jpg']\n",
            "['dog.5967.jpg', 'dog.1004.jpg', 'dog.184.jpg', 'dog.4810.jpg', 'dog.6522.jpg']\n",
            "total validation cat images : 1250\n",
            "total validation dog images : 1250\n",
            "\n",
            "Images from test file:\n",
            "['5765.jpg', '4236.jpg', '7159.jpg', '11683.jpg', '9949.jpg']\n",
            "total test images : 12500\n"
          ],
          "name": "stdout"
        }
      ]
    },
    {
      "cell_type": "code",
      "metadata": {
        "id": "0nTQnPLzoRiG",
        "colab_type": "code",
        "colab": {}
      },
      "source": [
        ""
      ],
      "execution_count": 0,
      "outputs": []
    }
  ]
}