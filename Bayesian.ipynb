{
  "nbformat": 4,
  "nbformat_minor": 0,
  "metadata": {
    "colab": {
      "name": "Bayesian.ipynb",
      "provenance": [],
      "include_colab_link": true
    },
    "kernelspec": {
      "name": "python3",
      "display_name": "Python 3"
    }
  },
  "cells": [
    {
      "cell_type": "markdown",
      "metadata": {
        "id": "view-in-github",
        "colab_type": "text"
      },
      "source": [
        "<a href=\"https://colab.research.google.com/github/xslittlemaggie/ML-DL-Algorithm-Notes/blob/master/Bayesian.ipynb\" target=\"_parent\"><img src=\"https://colab.research.google.com/assets/colab-badge.svg\" alt=\"Open In Colab\"/></a>"
      ]
    },
    {
      "cell_type": "markdown",
      "metadata": {
        "id": "mhjR7xOsBKwz",
        "colab_type": "text"
      },
      "source": [
        "## About Bayesian\n",
        "\n",
        "假设人群中得病(B1)的概率为：\n",
        "\n",
        "不得病(B2)的概率则为：\n",
        "\n",
        "先验概率:\n",
        "1. p(B1) = 1%\n",
        "\n",
        "2. p(B2) = 99%\n",
        "\n",
        "\n",
        "如果有病，且检查到阳性(A)的概率为:\n",
        "\n",
        "p(A|B1) = 90%\n",
        "\n",
        "如果没有病，且检查到阳性(A)的概率为:\n",
        "\n",
        "p(A|B2) = 10%\n",
        "\n",
        "\n",
        "\n",
        "\n"
      ]
    },
    {
      "cell_type": "markdown",
      "metadata": {
        "id": "4QsilDBlKC1O",
        "colab_type": "text"
      },
      "source": [
        "# Part 1:"
      ]
    },
    {
      "cell_type": "markdown",
      "metadata": {
        "id": "2Y1XqAH-EjQf",
        "colab_type": "text"
      },
      "source": [
        "### 1. 观察到有病，真正得病的概率是多少\n",
        "\n",
        "1. 有病，检查出有病的概率：p(A, B1) = p(B1).p(A|B1) = 1% * 90%= 0.009\n",
        "2. 没有病，检查出有病的概率：p(A, B2) = p(B2).p(A|B2) = 99% * 10%= 0.099\n",
        "\n",
        "这两个概率分别表示：\n",
        "1. 在1000 个人中，有9个人是真的有病，而且检测出有病\n",
        "2. 在1000 个人中，有99 个人是没有病被检查出有病\n",
        "\n",
        "因此,在检查出有病的所有人中:\n",
        "- 真正有病的人的概率是0.009/(0.009 + 0.99) = 0.083\n",
        "- 其实没有病的人的概率是0.099/(0.009 + 0.99) = 0.917\n",
        "\n",
        "此时更新先验概率--> 后验概率：此时的后验概率成为下一部检测的先验概率\n",
        "\n",
        "1. p(B1|A) = 0.083\n",
        "2. p(B2|A) = 0.917\n"
      ]
    },
    {
      "cell_type": "markdown",
      "metadata": {
        "id": "kTQXIxb7H9JN",
        "colab_type": "text"
      },
      "source": [
        "### 2. 第二次观察到有病，真正有病的概率是多少\n",
        "\n",
        "1. 有病，检查出有病的概率：p(A, B1) = p(B1).p(A|B1) = 0.083 * 90%= 0.0747\n",
        "2. 没有病，检查出有病的概率：p(A, B2) = p(B2).p(A|B2) = 0.917 * 10%= 0.0917\n",
        "\n",
        "这两个概率分别表示：\n",
        "1. 在1000 个人中，有75个人是真的有病，而且检测出有病\n",
        "2. 在1000 个人中，有92 个人是没有病被检查出有病\n",
        "\n",
        "因此,在检查出有病的所有人中:\n",
        "- 真正有病的人的概率是0.0747/(0.0747 + 0.0917) = 0.4489\n",
        "- 其实没有病的人的概率是0.0917/(0.0747 + 0.0917) = 0.5510\n",
        "\n",
        "此时继续更新先验概率--> 成为后验概率：\n",
        "\n",
        "1. p(B1|A, A) = 0.4489\n",
        "2. p(B2|A, A) = 0.5510\n",
        "\n",
        "\n"
      ]
    },
    {
      "cell_type": "markdown",
      "metadata": {
        "id": "LO-iSL-LJRuJ",
        "colab_type": "text"
      },
      "source": [
        "### 2. 第三次观察到有病，真正有病的概率是多少\n",
        "\n",
        "1. 有病，检查出有病的概率：p(A, B1) = p(B1).p(A|B1) = 0.4489 * 90%= 0.404\n",
        "2. 没有病，检查出有病的概率：p(A, B2) = p(B2).p(A|B2) = 0.5510 * 10%= 0.055\n",
        "\n",
        "这两个概率分别表示：\n",
        "1. 在1000 个人中，有404个人是真的有病，而且检测出有病\n",
        "2. 在1000 个人中，有55 个人是没有病被检查出有病\n",
        "\n",
        "因此,在检查出有病的所有人中:\n",
        "- 真正有病的人的概率是0.404/(0.404 + 0.055) = 0.88\n",
        "- 其实没有病的人的概率是0.055/(0.404 + 0.055) = 0.1198\n",
        "\n",
        "此时继续更新先验概率--> 成为后验概率：\n",
        "\n",
        "1. p(B1|A, A, A) = 0.88\n",
        "2. p(B2|A, A, A) = 0.1198\n",
        "\n"
      ]
    },
    {
      "cell_type": "markdown",
      "metadata": {
        "id": "xySU1S39M7Aq",
        "colab_type": "text"
      },
      "source": [
        "## Discussion\n",
        "因此，根据贝叶斯：\n",
        "- 第一次检测出有病，其实真正有病的概率还比较小(**8.3%**),\n",
        "- 第二次检测出有病，真正有病的概率上升到了**40.4%**\n",
        "- 第三次检测出有病，真正有病的概率就很大了，**88%**\n",
        "\n",
        "这个结果跟我们的直觉不是很一致的原因是，这种病在中人口中出现的概率本身很小"
      ]
    },
    {
      "cell_type": "markdown",
      "metadata": {
        "id": "W1eFOPEuKE9K",
        "colab_type": "text"
      },
      "source": [
        "# Part II"
      ]
    },
    {
      "cell_type": "markdown",
      "metadata": {
        "id": "9XRWBsrPKJBc",
        "colab_type": "text"
      },
      "source": [
        "### 1. 没有观察到病，此人得病的概率是多少\n",
        "\n",
        "1. 有病，检查出没病的概率：p(A, B1) = p(B1).p(A|B1) = 1% * 10%= 0.001\n",
        "2. 没有病，检查出没病的概率：p(A, B2) = p(B2).p(A|B2) = 99% * 90%= 0.891\n",
        "\n",
        "这两个概率分别表示：\n",
        "1. 在1000 个人中，有1个人是有病，检测出有病\n",
        "2. 在1000 个人中，有891个人是没有病被检查出没有病\n",
        "\n",
        "因此,在检查出没有病的所有人中:\n",
        "- 真正有病的人的概率是0.001/(0.001 + 0.891) = 0.0011\n",
        "- 其实没有病的人的概率是0.891/(0.009 + 0.891) = 0.99\n",
        "\n",
        "\n",
        "## Discussion\n",
        "如果一次检测没有病，真正没有病的概率99%, 基本上可以确定"
      ]
    },
    {
      "cell_type": "code",
      "metadata": {
        "id": "RD8-_peDNvOZ",
        "colab_type": "code",
        "colab": {}
      },
      "source": [
        ""
      ],
      "execution_count": 0,
      "outputs": []
    }
  ]
}