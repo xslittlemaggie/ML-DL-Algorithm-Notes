{
  "nbformat": 4,
  "nbformat_minor": 0,
  "metadata": {
    "colab": {
      "name": "Computation of EigenValue and EigenVector.ipynb",
      "provenance": [],
      "include_colab_link": true
    },
    "kernelspec": {
      "name": "python3",
      "display_name": "Python 3"
    }
  },
  "cells": [
    {
      "cell_type": "markdown",
      "metadata": {
        "id": "view-in-github",
        "colab_type": "text"
      },
      "source": [
        "<a href=\"https://colab.research.google.com/github/xslittlemaggie/ML-DL-Algorithm-Notes/blob/master/Computation_of_EigenValue_and_EigenVector.ipynb\" target=\"_parent\"><img src=\"https://colab.research.google.com/assets/colab-badge.svg\" alt=\"Open In Colab\"/></a>"
      ]
    },
    {
      "cell_type": "markdown",
      "metadata": {
        "id": "gHXyERBpkpJx",
        "colab_type": "text"
      },
      "source": [
        "<h1><center>Computation of Eigenvalue and EigenVector of the below 3 x 3 Matrix<center></h1>"
      ]
    },
    {
      "cell_type": "markdown",
      "metadata": {
        "id": "jzkjLkwmkJpe",
        "colab_type": "text"
      },
      "source": [
        "$$A = \n",
        " \\begin{bmatrix}\n",
        "   0 & 1 & 2 \\\\\n",
        "   3 & 4 & 5 \\\\\n",
        "   6 & 7 & 8\n",
        "  \\end{bmatrix} \\\n",
        "$$"
      ]
    },
    {
      "cell_type": "markdown",
      "metadata": {
        "id": "JOzIrWEJk5Ya",
        "colab_type": "text"
      },
      "source": [
        "## **Part 1**: Calculation manually Step by Step"
      ]
    },
    {
      "cell_type": "markdown",
      "metadata": {
        "id": "XSV6wWeklFrP",
        "colab_type": "text"
      },
      "source": [
        "### 1. Get the 3 x 3 Identity Matrix\n",
        "\n",
        "$$I = \n",
        " \\begin{bmatrix}\n",
        "   1 & 0 & 0 \\\\\n",
        "   0 & 1 & 0 \\\\\n",
        "   0 & 0 & 1\n",
        "  \\end{bmatrix} \\\n",
        "$$"
      ]
    },
    {
      "cell_type": "markdown",
      "metadata": {
        "id": "VGh3Z-VVlZut",
        "colab_type": "text"
      },
      "source": [
        "### 2. Get:  $\\lambda$\\$I$ \n",
        "\n",
        "$$ \\lambda \n",
        " \\begin{bmatrix}\n",
        "   1 & 0 & 0 \\\\\n",
        "   0 & 1 & 0 \\\\\n",
        "   0 & 0 & 1\n",
        "  \\end{bmatrix} \\\n",
        "= \n",
        " \\begin{bmatrix}\n",
        "   \\lambda & 0 & 0 \\\\\n",
        "   0 & \\lambda & 0 \\\\\n",
        "   0 & 0 & \\lambda\n",
        "  \\end{bmatrix} \\\n",
        "$$\n",
        "\n"
      ]
    },
    {
      "cell_type": "markdown",
      "metadata": {
        "id": "Y71djzm9oXN3",
        "colab_type": "text"
      },
      "source": [
        "### 3. Get: A - $\\lambda$\\$I$\n",
        "\n",
        "$$\\begin{bmatrix}\n",
        "   0 & 1 & 2 \\\\\n",
        "   3 & 4 & 5 \\\\\n",
        "   6 & 7 & 8\n",
        "  \\end{bmatrix} \\ -\n",
        " \\begin{bmatrix}\n",
        "   \\lambda & 0 & 0 \\\\\n",
        "   0 & \\lambda & 0 \\\\\n",
        "   0 & 0 & \\lambda\n",
        "  \\end{bmatrix} \\ = \\begin{bmatrix}\n",
        "   -\\lambda & 1 & 2 \\\\\n",
        "   3 & 4-\\lambda & 5 \\\\\n",
        "   6 & 7 & 8-\\lambda\n",
        "  \\end{bmatrix} \n",
        "$$"
      ]
    },
    {
      "cell_type": "markdown",
      "metadata": {
        "id": "kdwnOmfOqIDt",
        "colab_type": "text"
      },
      "source": [
        "### 4. Computate： det(A - $\\lambda$\\$I$)\n",
        "\n",
        "\n",
        "$$det(\\begin{bmatrix}\n",
        "   -\\lambda & 1 & 2 \\\\\n",
        "   3 & 4-\\lambda & 5 \\\\\n",
        "   6 & 7 & 8-\\lambda\n",
        "  \\end{bmatrix}) $$ \n",
        "\n",
        " $$ = -\\lambda * (4-\\lambda) * (8-\\lambda) + 1 * 5 * 6 + 3 * 7 * 2 - 6 * (4-\\lambda) * 2 - 1 * 3 * (8-\\lambda) - 5 * 7 * (-\\lambda) = 0\n",
        " $$"
      ]
    },
    {
      "cell_type": "markdown",
      "metadata": {
        "id": "CrEc5y6gtLkN",
        "colab_type": "text"
      },
      "source": [
        "### 5. Simplify the equation and get the 3 EigenValues：\n",
        "\n",
        "\n",
        "\n",
        " $$ -\\lambda ^ 3 + 12\\lambda ^ 2 - 18 \\lambda = 0\n",
        " $$\n",
        "\n",
        " $$ \\lambda_1 = 0\n",
        " $$\n",
        "\n",
        " $$ \\lambda_2 = 6 + 3 \\sqrt2\n",
        " $$\n",
        "\n",
        " $$ \\lambda_3 = 6 - 3 \\sqrt2\n",
        " $$\n"
      ]
    },
    {
      "cell_type": "markdown",
      "metadata": {
        "id": "h86-cyvbuvRs",
        "colab_type": "text"
      },
      "source": [
        "### 6. Replace the EigenValues to get the EigenVetors h1, h2, h3：\n",
        "\n",
        "$$(A - \\lambda_1I)  h_1  = 0$$ \n",
        "\n",
        "\n",
        "$$(A - \\lambda_2I)  h_2  = 0$$ \n",
        "\n",
        "$$(A - \\lambda_3I)  h_3  = 0$$ \n"
      ]
    },
    {
      "cell_type": "markdown",
      "metadata": {
        "id": "odeZsDTP4n9V",
        "colab_type": "text"
      },
      "source": [
        "## **Part 2**: Get the EigenValues and EignVectors from Pandas"
      ]
    },
    {
      "cell_type": "code",
      "metadata": {
        "id": "lf77h2aAU95S",
        "colab_type": "code",
        "colab": {
          "base_uri": "https://localhost:8080/",
          "height": 69
        },
        "outputId": "6a528ea4-4219-4ada-9cfa-1ade845af64f"
      },
      "source": [
        "import numpy as np\n",
        "from numpy import linalg\n",
        "A = np.array([[0, 1, 2], [3, 4, 5], [6, 7, 8]])\n",
        "A"
      ],
      "execution_count": 47,
      "outputs": [
        {
          "output_type": "execute_result",
          "data": {
            "text/plain": [
              "array([[0, 1, 2],\n",
              "       [3, 4, 5],\n",
              "       [6, 7, 8]])"
            ]
          },
          "metadata": {
            "tags": []
          },
          "execution_count": 47
        }
      ]
    },
    {
      "cell_type": "code",
      "metadata": {
        "id": "rZTTvbRlv0Og",
        "colab_type": "code",
        "colab": {
          "base_uri": "https://localhost:8080/",
          "height": 52
        },
        "outputId": "b6450bf1-3feb-4a22-9ada-34532b506264"
      },
      "source": [
        "eigen_values, eigen_vectors = linalg.eig(A)\n",
        "print(\"The EigenValues are: \\n{}\".format(eigen_values))"
      ],
      "execution_count": 48,
      "outputs": [
        {
          "output_type": "stream",
          "text": [
            "The EigenValues are: \n",
            "[ 1.33484692e+01 -1.34846923e+00 -2.48477279e-16]\n"
          ],
          "name": "stdout"
        }
      ]
    },
    {
      "cell_type": "code",
      "metadata": {
        "id": "puxU7eiC3DQD",
        "colab_type": "code",
        "colab": {
          "base_uri": "https://localhost:8080/",
          "height": 173
        },
        "outputId": "23db1dbd-726c-460b-d6dc-1f9d8fd4d598"
      },
      "source": [
        "order = ['first', 'second', 'third']\n",
        "for j in range(3):\n",
        "  print(\"The {} EigenVector: \\n{}, \\n\".format(order[j], [eigen_vectors[i][j] for i in range(3)]))"
      ],
      "execution_count": 49,
      "outputs": [
        {
          "output_type": "stream",
          "text": [
            "The first EigenVector: \n",
            "[0.16476381728230288, 0.5057744759005659, 0.8467851345188293], \n",
            "\n",
            "The second EigenVector: \n",
            "[0.7996996631118652, 0.10420578771917768, -0.5912880876735086], \n",
            "\n",
            "The third EigenVector: \n",
            "[0.4082482904638631, -0.8164965809277261, 0.4082482904638629], \n",
            "\n"
          ],
          "name": "stdout"
        }
      ]
    }
  ]
}